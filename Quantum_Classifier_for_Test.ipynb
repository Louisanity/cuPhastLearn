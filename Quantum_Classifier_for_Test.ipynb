{
 "cells": [
  {
   "cell_type": "code",
   "execution_count": 22,
   "metadata": {},
   "outputs": [],
   "source": [
    "import TensorNetwork\n",
    "import Entangler\n",
    "from qiskit import QuantumRegister, ClassicalRegister, execute, Aer, QuantumCircuit\n",
    "import numpy as np\n",
    "import hamiltonians\n",
    "import TNOptimize\n",
    "from scipy.optimize import minimize\n",
    "from skopt import gp_minimize\n",
    "import matplotlib.pyplot as plt"
   ]
  },
  {
   "cell_type": "code",
   "execution_count": 2,
   "metadata": {},
   "outputs": [],
   "source": [
    "n_qubits = 4\n",
    "q, c = QuantumRegister(n_qubits), ClassicalRegister(n_qubits)\n",
    "ent = Entangler.IsingEntangler()\n",
    "tn_1 = TensorNetwork.Checkerboard(q, c, ent, depth=3)\n",
    "tn_2 = TensorNetwork.Checkerboard(q, c, ent, depth=4)\n",
    "\n",
    "params_1 = np.random.rand(tn_1.n_params)\n",
    "params_2 = np.random.rand(tn_2.n_params)"
   ]
  },
  {
   "cell_type": "markdown",
   "metadata": {},
   "source": [
    "### Prepare data"
   ]
  },
  {
   "cell_type": "code",
   "execution_count": 3,
   "metadata": {},
   "outputs": [
    {
     "name": "stdout",
     "output_type": "stream",
     "text": [
      "0.1\n",
      "0.15\n",
      "0.2\n",
      "0.25\n",
      "0.3\n",
      "halfway there\n",
      "2.0\n",
      "2.125\n",
      "2.25\n",
      "2.375\n",
      "2.5\n",
      "success\n"
     ]
    }
   ],
   "source": [
    "h_left = np.linspace(0.1, 0.3, num=5)\n",
    "h_right = np.linspace(2, 2.5, num=5)\n",
    "\n",
    "\n",
    "sols_left = []\n",
    "sols_right = []\n",
    "\n",
    "J = 1\n",
    "for h in h_left:\n",
    "    ham_dict = hamiltonians.ising_model(n_qubits, J, h)\n",
    "    H = hamiltonians.explicit_hamiltonian(ham_dict) / h\n",
    "    f = TNOptimize.build_objective_function(tn_1, H)\n",
    "    start_vals = np.random.rand(tn_1.n_params) * 0.05\n",
    "    res = minimize(f, start_vals, tol=1e-6, method='L-BFGS-B')\n",
    "    sols_left.append([res.x, h, -1])\n",
    "    print(h)\n",
    "\n",
    "print('halfway there')\n",
    "    \n",
    "for h in h_right:\n",
    "    ham_dict = hamiltonians.ising_model(n_qubits, J, h)\n",
    "    H = hamiltonians.explicit_hamiltonian(ham_dict) / h\n",
    "    f = TNOptimize.build_objective_function(tn_1, H)\n",
    "    start_vals = np.random.rand(tn_1.n_params) * 0.05\n",
    "    res = minimize(f, start_vals, tol=1e-6, method='L-BFGS-B')\n",
    "    sols_left.append([res.x, h, 1])\n",
    "    print(h)\n",
    "    \n",
    "    \n",
    "print('success')"
   ]
  },
  {
   "cell_type": "code",
   "execution_count": 4,
   "metadata": {},
   "outputs": [
    {
     "name": "stdout",
     "output_type": "stream",
     "text": [
      "0.5\n",
      "0.75\n",
      "1.0\n",
      "1.25\n",
      "1.5\n"
     ]
    }
   ],
   "source": [
    "h_test = np.linspace(0.5, 1.5, num=5)\n",
    "\n",
    "test_data = []\n",
    "\n",
    "for h in h_test:\n",
    "    ham_dict = hamiltonians.ising_model(n_qubits, J, h)\n",
    "    H = hamiltonians.explicit_hamiltonian(ham_dict) / h\n",
    "    f = TNOptimize.build_objective_function(tn_1, H)\n",
    "    start_vals = np.random.rand(tn_1.n_params) * 0.05\n",
    "    res = minimize(f, start_vals, tol=1e-6, method='L-BFGS-B')\n",
    "    test_data.append([res.x, h, np.nan])\n",
    "    print(h)"
   ]
  },
  {
   "cell_type": "code",
   "execution_count": 5,
   "metadata": {},
   "outputs": [],
   "source": [
    "train_data = sols_left + sols_right\n",
    "full_data = train_data + test_data"
   ]
  },
  {
   "cell_type": "code",
   "execution_count": 11,
   "metadata": {},
   "outputs": [],
   "source": [
    "from qiskit import QuantumCircuit, execute, Aer\n",
    "import numpy as np\n",
    "\n",
    "def prediction(sol_params, classifier_params, tn_1, tn_2, shots=1024):\n",
    "    circ_1 = tn_1.construct_circuit(sol_params)\n",
    "    circ_2 = tn_2.construct_circuit(classifier_params)\n",
    "    \n",
    "    # Create a new quantum circuit for measurement that matches the size of circ_1\n",
    "    measure_circ = QuantumCircuit(circ_1.num_qubits, circ_1.num_clbits)\n",
    "    for i in range(circ_1.num_qubits):  # Assuming n_qubits matches circ_1.num_qubits\n",
    "        measure_circ.measure(i, i)\n",
    "    \n",
    "    # Compose circ_1 with circ_2, then add the measurement circuit\n",
    "    total_circ = circ_1.compose(circ_2).compose(measure_circ)\n",
    "    \n",
    "    sv_backend = Aer.get_backend('statevector_simulator')\n",
    "    job = execute(total_circ, sv_backend)\n",
    "    result = job.result()\n",
    "    \n",
    "    # Access the statevector as a numpy array\n",
    "    statevec = result.get_statevector().data  # Use .data to get the numpy array\n",
    "    \n",
    "    # Compute the label using the first and last element of the statevector\n",
    "    label = (-1 * abs(statevec[0])**2 + abs(statevec[-1])**2)\n",
    "    \n",
    "    return label\n"
   ]
  },
  {
   "cell_type": "code",
   "execution_count": 12,
   "metadata": {},
   "outputs": [],
   "source": [
    "# sol_params = full_data[1][0]\n",
    "# classifier_params = np.random.rand(tn_2.n_params)\n",
    "\n",
    "# circ_1 = tn_1.construct_circuit(sol_params)\n",
    "# circ_2 = tn_2.construct_circuit(classifier_params)\n",
    "\n",
    "# total_circ = circ_1 + circ_2 + measure_circ\n",
    "\n",
    "# job = execute(total_circ, sv_backend)\n",
    "# result = job.result()\n",
    "\n",
    "# statevec = result.get_statevector(total_circ)\n"
   ]
  },
  {
   "cell_type": "code",
   "execution_count": 13,
   "metadata": {},
   "outputs": [
    {
     "data": {
      "text/plain": [
       "array([ 0.26585281, -1.6580126 , -1.04962912, -1.60588993,  0.44523952,\n",
       "        1.5710937 ,  1.56974546, -1.56817221, -1.69756401, -1.24666556,\n",
       "        0.02542482,  1.10900945, -5.95654508, -0.98280643, -2.92072824,\n",
       "        3.04084252,  1.5606949 , -5.95706429, -2.65702414, -4.57723429,\n",
       "        3.51002541,  3.51268113, -7.85158181, -3.12257968, -3.15086332,\n",
       "        1.56331214,  1.56756901, -6.27546928, -3.14704525, -3.21462282])"
      ]
     },
     "execution_count": 13,
     "metadata": {},
     "output_type": "execute_result"
    }
   ],
   "source": [
    "train_data[5][0]"
   ]
  },
  {
   "cell_type": "code",
   "execution_count": 14,
   "metadata": {},
   "outputs": [
    {
     "data": {
      "text/plain": [
       "0.0"
      ]
     },
     "execution_count": 14,
     "metadata": {},
     "output_type": "execute_result"
    }
   ],
   "source": [
    "prediction(train_data[0][0], np.random.rand(tn_2.n_params), tn_1, tn_2)"
   ]
  },
  {
   "cell_type": "code",
   "execution_count": 15,
   "metadata": {},
   "outputs": [],
   "source": [
    "def loss_fun(train_data, classifier_params, tn_1, tn_2):\n",
    "    loss = 0\n",
    "    for data in train_data:\n",
    "        label_pred = prediction(data[0], classifier_params, tn_1, tn_2)\n",
    "        loss += abs(data[2] - label_pred)\n",
    "    return loss"
   ]
  },
  {
   "cell_type": "code",
   "execution_count": 16,
   "metadata": {},
   "outputs": [
    {
     "data": {
      "text/plain": [
       "7.0"
      ]
     },
     "execution_count": 16,
     "metadata": {},
     "output_type": "execute_result"
    }
   ],
   "source": [
    "loss_fun(train_data, np.random.rand(tn_2.n_params), tn_1, tn_2)"
   ]
  },
  {
   "cell_type": "code",
   "execution_count": 17,
   "metadata": {},
   "outputs": [],
   "source": [
    "def f(x):\n",
    "    return loss_fun(train_data, x, tn_1, tn_2)"
   ]
  },
  {
   "cell_type": "code",
   "execution_count": 18,
   "metadata": {},
   "outputs": [
    {
     "data": {
      "text/plain": [
       "10.0"
      ]
     },
     "execution_count": 18,
     "metadata": {},
     "output_type": "execute_result"
    }
   ],
   "source": [
    "x = np.random.rand(tn_2.n_params)\n",
    "f(x)"
   ]
  },
  {
   "cell_type": "code",
   "execution_count": 19,
   "metadata": {},
   "outputs": [
    {
     "data": {
      "text/plain": [
       "'Desired error not necessarily achieved due to precision loss.'"
      ]
     },
     "execution_count": 19,
     "metadata": {},
     "output_type": "execute_result"
    }
   ],
   "source": [
    "res_training = minimize(f, np.random.rand(tn_2.n_params), options={\"maxiter\":50})\n",
    "res_training.message"
   ]
  },
  {
   "cell_type": "code",
   "execution_count": 15,
   "metadata": {},
   "outputs": [],
   "source": [
    "# res = gp_minimize(f, [(0, 2 * np.pi)] * tn_2.n_params, n_calls=100, verbose=False)"
   ]
  },
  {
   "cell_type": "code",
   "execution_count": 16,
   "metadata": {},
   "outputs": [],
   "source": [
    "# plt.scatter(np.arange(100), res.func_vals)"
   ]
  },
  {
   "cell_type": "code",
   "execution_count": 20,
   "metadata": {},
   "outputs": [
    {
     "name": "stdout",
     "output_type": "stream",
     "text": [
      "h: 0.10, Actual: -1.00, Predicted: 0.00\n",
      "h: 0.15, Actual: -1.00, Predicted: 0.00\n",
      "h: 0.20, Actual: -1.00, Predicted: 1.00\n",
      "h: 0.25, Actual: -1.00, Predicted: 0.00\n",
      "h: 0.30, Actual: -1.00, Predicted: 0.00\n",
      "h: 2.00, Actual: 1.00, Predicted: 1.00\n",
      "h: 2.12, Actual: 1.00, Predicted: 1.00\n",
      "h: 2.25, Actual: 1.00, Predicted: 0.00\n",
      "h: 2.38, Actual: 1.00, Predicted: 1.00\n",
      "h: 2.50, Actual: 1.00, Predicted: 1.00\n",
      "h: 0.50, Actual: nan, Predicted: 0.00\n",
      "h: 0.75, Actual: nan, Predicted: 0.00\n",
      "h: 1.00, Actual: nan, Predicted: 1.00\n",
      "h: 1.25, Actual: nan, Predicted: 1.00\n",
      "h: 1.50, Actual: nan, Predicted: 1.00\n"
     ]
    }
   ],
   "source": [
    "for d in full_data:\n",
    "    prd = prediction(d[0], res_training.x, tn_1, tn_2)\n",
    "    print('h: {0:0.2f}, Actual: {1:0.2f}, Predicted: {2:0.2f}'.format(d[1], d[2], prd))"
   ]
  },
  {
   "cell_type": "code",
   "execution_count": 21,
   "metadata": {},
   "outputs": [
    {
     "data": {
      "text/plain": [
       "<matplotlib.legend.Legend at 0x1ed2ac72950>"
      ]
     },
     "execution_count": 21,
     "metadata": {},
     "output_type": "execute_result"
    },
    {
     "data": {
      "image/png": "[encoded data removed]",
      "text/plain": [
       "<Figure size 640x480 with 1 Axes>"
      ]
     },
     "metadata": {},
     "output_type": "display_data"
    }
   ],
   "source": [
    "h_data = [d[1] for d in train_data]\n",
    "predicted = [prediction(d[0], res_training.x, tn_1, tn_2) for d in train_data]\n",
    "\n",
    "h_2 = [d[1] for d in test_data]\n",
    "prd_test = [prediction(d[0], res_training.x, tn_1, tn_2) for d in test_data]\n",
    "\n",
    "plt.scatter(h_data, predicted, label='train')\n",
    "plt.scatter(h_2, prd_test, label='test')\n",
    "plt.legend()"
   ]
  }
 ],
 "metadata": {
  "kernelspec": {
   "display_name": "Python 3",
   "language": "python",
   "name": "python3"
  },
  "language_info": {
   "codemirror_mode": {
    "name": "ipython",
    "version": 3
   },
   "file_extension": ".py",
   "mimetype": "text/x-python",
   "name": "python",
   "nbconvert_exporter": "python",
   "pygments_lexer": "ipython3",
   "version": "3.11.3"
  }
 },
 "nbformat": 4,
 "nbformat_minor": 2
}
