{
 "cells": [
  {
   "cell_type": "code",
   "execution_count": 2,
   "id": "1b6ec13a-51ca-4acb-88f5-e7ace6a3e6ce",
   "metadata": {
    "tags": []
   },
   "outputs": [],
   "source": [
    "import numpy as np\n",
    "from qiskit import QuantumRegister, ClassicalRegister, QuantumCircuit\n",
    "from qiskit import Aer, execute\n",
    "import matplotlib.pyplot as plt\n",
    "import time\n",
    "from scipy.optimize import minimize, approx_fprime\n",
    "import csv\n",
    "from itertools import chain\n",
    "\n",
    "import sys\n",
    "sys.path.append(\"..\")\n",
    "\n",
    "import Entangler\n",
    "import TensorNetwork\n",
    "import hamiltonians\n",
    "#import TNOptimize\n",
    "import uuid\n",
    "import json\n",
    "import utils\n",
    "plt.rcParams.update({'font.size': 14})\n",
    "\n",
    "import pennylane as qml\n",
    "import pennylane.numpy as np"
   ]
  },
  {
   "cell_type": "code",
   "execution_count": 3,
   "id": "279cc4bd-05cf-46a9-b4be-7ac95eca1e92",
   "metadata": {
    "tags": []
   },
   "outputs": [],
   "source": [
    "n_qubits = 10\n",
    "wires = list(range(n_qubits))\n",
    "depth = 4\n",
    "\n",
    "ent = Entangler.IsingEntangler()\n",
    "TN = TensorNetwork.Checkerboard(wires, ent, depth=depth)\n",
    "\n",
    "conv_tol = 1e-6\n",
    "method = \"L-BFGS-B\"\n",
    "\n",
    "cuda = False"
   ]
  },
  {
   "cell_type": "code",
   "execution_count": 4,
   "id": "06a33767-6ec8-4ad0-9513-d1770cb02702",
   "metadata": {
    "tags": []
   },
   "outputs": [
    {
     "name": "stdout",
     "output_type": "stream",
     "text": [
      "0\n",
      "787\n",
      "6.134838219651328e-07\n",
      "-12.450342909255289\n"
     ]
    },
    {
     "ename": "NameError",
     "evalue": "name 'state' is not defined",
     "output_type": "error",
     "traceback": [
      "\u001b[0;31m---------------------------------------------------------------------------\u001b[0m",
      "\u001b[0;31mNameError\u001b[0m                                 Traceback (most recent call last)",
      "File \u001b[0;32m<timed exec>:66\u001b[0m\n",
      "\u001b[0;31mNameError\u001b[0m: name 'state' is not defined"
     ]
    }
   ],
   "source": [
    "%%time\n",
    "\n",
    "\n",
    "J = 1\n",
    "\n",
    "# np.random.seed(0)\n",
    "\n",
    "h_vals = np.linspace(0, 2, num=101)\n",
    "\n",
    "h_iter = chain(h_vals, reversed(h_vals))\n",
    "\n",
    "init_params = np.random.rand(TN.n_params)\n",
    "\n",
    "datetime = time.strftime(\"%Y-%m-%d_%H-%M-%S\")\n",
    "\n",
    "h_base = hamiltonians.xxz_heisenberg_model(n_qubits, 1, 0)\n",
    "H_base = hamiltonians.explicit_hamiltonian(h_base)\n",
    "\n",
    "h_field = hamiltonians.xxz_heisenberg_model(n_qubits, 0, 1)\n",
    "H_field = hamiltonians.explicit_hamiltonian(h_field)\n",
    "\n",
    "with open(\"vqe_\" + datetime + \".csv\", \"a\", newline='') as fd:\n",
    "    statewriter = csv.writer(fd, delimiter=',', quoting=csv.QUOTE_MINIMAL)\n",
    "    for i, h in enumerate(h_iter):\n",
    "        if np.isclose(h, 1):\n",
    "            continue\n",
    "        H = H_base + h * H_field\n",
    "        H_op  = qml.Hermitian(H, wires)\n",
    "        \n",
    "        if cuda == True:\n",
    "            dev = qml.device(\"lightning.gpu\",wires)\n",
    "        else:\n",
    "            dev = qml.device(\"default.qubit\",wires)\n",
    "        @qml.qnode(dev)\n",
    "        def circuit(params, wires, state=False):\n",
    "            TN.construct_circuit(params)\n",
    "            if state:\n",
    "                return qml.state()\n",
    "            else:\n",
    "                return qml.expval(H_op)\n",
    "            \n",
    "        def cost_fn(params):\n",
    "            return circuit(params, wires)\n",
    "        \n",
    "        opt = qml.AdamOptimizer(stepsize=0.02, beta1=0.9, beta2=0.99, eps=1e-08)\n",
    "    \n",
    "        params = init_params\n",
    "\n",
    "        for n in range(800):\n",
    "            params, prev_energy = opt.step_and_cost(cost_fn, params)\n",
    "            energy = cost_fn(params)\n",
    "            # Calculate difference between new and old energies\n",
    "            conv = np.abs(energy - prev_energy)  \n",
    "            if conv <= conv_tol:\n",
    "                break\n",
    "                \n",
    "        #state = circuit(params, wires, state=True)\n",
    "        if (i < 10):\n",
    "            print(i)\n",
    "            print(n)\n",
    "            print(conv)\n",
    "            print(energy)\n",
    "            \n",
    "        if (h>1):\n",
    "            state_label = 1\n",
    "        else:\n",
    "            state_label = 0\n",
    "        #total_data = np.concatenate((state, params, [h, energy, state_label]))\n",
    "        total_data = np.concatenate((params, [h, energy, state_label]))\n",
    "        statewriter.writerow(total_data)\n",
    "        init_params = params\n",
    "        '''\n",
    "        res = minimize(cost_fn, x_0, options={'maxiter': 300}, callback=None, \n",
    "               tol=tol, method=method)        \n",
    "        state = circuit(res.x, wires, state=True)\n",
    "        if (i % 10 == 0):\n",
    "            print(i)\n",
    "            print(res.fun)\n",
    "            print(res.nit)\n",
    "            print(res.message)\n",
    "        if (h>1):\n",
    "            state_label = 1\n",
    "        else:\n",
    "            state_label = 0\n",
    "        total_data = np.concatenate((state, res.x, [h, res.fun, state_label]))\n",
    "        statewriter.writerow(total_data)\n",
    "        x_0 = res.x\n",
    "        '''"
   ]
  },
  {
   "cell_type": "code",
   "execution_count": null,
   "id": "ccd4febe-be61-4658-ae07-d9473eb35bb9",
   "metadata": {},
   "outputs": [],
   "source": [
    "0\n",
    "638\n",
    "8.461351335142808e-07\n",
    "-12.439964667932202"
   ]
  },
  {
   "cell_type": "code",
   "execution_count": null,
   "id": "0fdb5078-b951-4490-9c17-84e07f66cd14",
   "metadata": {},
   "outputs": [],
   "source": []
  }
 ],
 "metadata": {
  "kernelspec": {
   "display_name": "Python 3 [Default]",
   "language": "python",
   "name": "python3"
  },
  "language_info": {
   "codemirror_mode": {
    "name": "ipython",
    "version": 3
   },
   "file_extension": ".py",
   "mimetype": "text/x-python",
   "name": "python",
   "nbconvert_exporter": "python",
   "pygments_lexer": "ipython3",
   "version": "3.11.7"
  }
 },
 "nbformat": 4,
 "nbformat_minor": 5
}
