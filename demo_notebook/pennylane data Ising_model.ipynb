{
 "cells": [
  {
   "cell_type": "code",
   "execution_count": 1,
   "metadata": {
    "tags": []
   },
   "outputs": [
    {
     "name": "stdout",
     "output_type": "stream",
     "text": [
      "Collecting aiohttp\n",
      "  Using cached aiohttp-3.9.3-cp311-cp311-manylinux_2_17_x86_64.manylinux2014_x86_64.whl.metadata (7.4 kB)\n",
      "Collecting fsspec\n",
      "  Using cached fsspec-2024.2.0-py3-none-any.whl.metadata (6.8 kB)\n",
      "Collecting h5py\n",
      "  Using cached h5py-3.10.0-cp311-cp311-manylinux_2_17_x86_64.manylinux2014_x86_64.whl.metadata (2.5 kB)\n",
      "Collecting aiosignal>=1.1.2 (from aiohttp)\n",
      "  Using cached aiosignal-1.3.1-py3-none-any.whl.metadata (4.0 kB)\n",
      "Requirement already satisfied: attrs>=17.3.0 in /opt/conda/envs/py311/lib/python3.11/site-packages (from aiohttp) (23.2.0)\n",
      "Collecting frozenlist>=1.1.1 (from aiohttp)\n",
      "  Using cached frozenlist-1.4.1-cp311-cp311-manylinux_2_5_x86_64.manylinux1_x86_64.manylinux_2_17_x86_64.manylinux2014_x86_64.whl.metadata (12 kB)\n",
      "Collecting multidict<7.0,>=4.5 (from aiohttp)\n",
      "  Using cached multidict-6.0.5-cp311-cp311-manylinux_2_17_x86_64.manylinux2014_x86_64.whl.metadata (4.2 kB)\n",
      "Collecting yarl<2.0,>=1.0 (from aiohttp)\n",
      "  Using cached yarl-1.9.4-cp311-cp311-manylinux_2_17_x86_64.manylinux2014_x86_64.whl.metadata (31 kB)\n",
      "Requirement already satisfied: numpy>=1.17.3 in /opt/.qbraid/environments/qbraid_000000/pyenv/lib/python3.11/site-packages (from h5py) (1.26.4)\n",
      "Requirement already satisfied: idna>=2.0 in /opt/.qbraid/environments/qbraid_000000/pyenv/lib/python3.11/site-packages (from yarl<2.0,>=1.0->aiohttp) (3.6)\n",
      "Using cached aiohttp-3.9.3-cp311-cp311-manylinux_2_17_x86_64.manylinux2014_x86_64.whl (1.3 MB)\n",
      "Using cached fsspec-2024.2.0-py3-none-any.whl (170 kB)\n",
      "Using cached h5py-3.10.0-cp311-cp311-manylinux_2_17_x86_64.manylinux2014_x86_64.whl (4.8 MB)\n",
      "Using cached aiosignal-1.3.1-py3-none-any.whl (7.6 kB)\n",
      "Using cached frozenlist-1.4.1-cp311-cp311-manylinux_2_5_x86_64.manylinux1_x86_64.manylinux_2_17_x86_64.manylinux2014_x86_64.whl (272 kB)\n",
      "Using cached multidict-6.0.5-cp311-cp311-manylinux_2_17_x86_64.manylinux2014_x86_64.whl (128 kB)\n",
      "Using cached yarl-1.9.4-cp311-cp311-manylinux_2_17_x86_64.manylinux2014_x86_64.whl (328 kB)\n",
      "Installing collected packages: multidict, h5py, fsspec, frozenlist, yarl, aiosignal, aiohttp\n",
      "Successfully installed aiohttp-3.9.3 aiosignal-1.3.1 frozenlist-1.4.1 fsspec-2024.2.0 h5py-3.10.0 multidict-6.0.5 yarl-1.9.4\n",
      "Note: you may need to restart the kernel to use updated packages.\n"
     ]
    }
   ],
   "source": [
    "%pip install aiohttp fsspec h5py"
   ]
  },
  {
   "cell_type": "markdown",
   "metadata": {},
   "source": [
    "## Classifying a phase transition in the XXZ model"
   ]
  },
  {
   "cell_type": "code",
   "execution_count": 2,
   "metadata": {
    "tags": []
   },
   "outputs": [
    {
     "name": "stderr",
     "output_type": "stream",
     "text": [
      "/tmp/ipykernel_196/316123068.py:8: DeprecationWarning: \n",
      "Pyarrow will become a required dependency of pandas in the next major release of pandas (pandas 3.0),\n",
      "(to allow more performant data types, such as the Arrow string type, and better interoperability with other libraries)\n",
      "but was not found to be installed on your system.\n",
      "If this would cause problems for you,\n",
      "please provide us feedback at https://github.com/pandas-dev/pandas/issues/54466\n",
      "        \n",
      "  import pandas as pd\n"
     ]
    }
   ],
   "source": [
    "import numpy as np\n",
    "\n",
    "import time\n",
    "from scipy.optimize import minimize, approx_fprime\n",
    "import matplotlib.pyplot as plt\n",
    "import scipy.sparse.linalg as SPLA\n",
    "import csv\n",
    "import pandas as pd\n",
    "from functools import reduce\n",
    "\n",
    "from numba import jit, njit\n",
    "from copy import copy, deepcopy\n",
    "\n",
    "import sys\n",
    "sys.path.append(\"..\")\n",
    "\n",
    "import Entangler\n",
    "import TensorNetwork\n",
    "import hamiltonians\n",
    "import uuid\n",
    "import json\n",
    "\n",
    "import pennylane as qml\n",
    "import pennylane.numpy as np\n",
    "\n",
    "plt.rcParams.update({'font.size': 18})\n",
    "plt.rcParams.update({'figure.figsize': [9, 6]})"
   ]
  },
  {
   "cell_type": "code",
   "execution_count": 2,
   "metadata": {
    "tags": []
   },
   "outputs": [
    {
     "data": {
      "text/plain": [
       "dict_keys(['BoseHubbard', 'Ising', 'Heisenberg', 'FermiHubbard'])"
      ]
     },
     "execution_count": 2,
     "metadata": {},
     "output_type": "execute_result"
    }
   ],
   "source": [
    "available_data = qml.data.list_datasets()\n",
    "available_data[\"qspin\"].keys()"
   ]
  },
  {
   "cell_type": "markdown",
   "metadata": {},
   "source": [
    "### Loading the data"
   ]
  },
  {
   "cell_type": "code",
   "execution_count": 3,
   "metadata": {
    "tags": []
   },
   "outputs": [],
   "source": [
    "data_Ising = qml.data.load(\"qspin\", \n",
    "                           sysname=\"Ising\", \n",
    "                           periodicity=\"closed\", \n",
    "                           lattice=\"chain\", \n",
    "                           layout=[\"1x8\"])\n",
    "\n",
    "groundstates = [] \n",
    "for h_value in range(100):\n",
    "    groundstates.append(\n",
    "        np.array(data_Ising[0].ground_states[h_value])\n",
    "    )\n",
    "data_groundstates = np.array(groundstates)\n",
    "\n",
    "labels = [] \n",
    "for h_index in range(100):\n",
    "    h = data_Ising[0].parameters['h'][h_index]\n",
    "    if h < 1:\n",
    "        labels += [-1.]\n",
    "    elif h >= 1:\n",
    "        labels += [1.]\n",
    "data_labels = np.array(labels)"
   ]
  },
  {
   "cell_type": "code",
   "execution_count": 4,
   "metadata": {
    "tags": []
   },
   "outputs": [],
   "source": [
    "cuda = False"
   ]
  },
  {
   "cell_type": "code",
   "execution_count": 5,
   "metadata": {
    "tags": []
   },
   "outputs": [],
   "source": [
    "n_qubits = int(np.log2(len(data_groundstates[0])))\n",
    "wire = list(range(n_qubits))\n",
    "\n",
    "depth_classifier = 6\n",
    "\n",
    "ent = Entangler.IsingEntangler()\n",
    "TN_classifier = TensorNetwork.Checkerboard(wire, ent, depth=depth_classifier)\n",
    "\n",
    "\n",
    "tol = 1e-6"
   ]
  },
  {
   "cell_type": "code",
   "execution_count": 6,
   "metadata": {
    "tags": []
   },
   "outputs": [
    {
     "data": {
      "text/plain": [
       "8"
      ]
     },
     "execution_count": 6,
     "metadata": {},
     "output_type": "execute_result"
    }
   ],
   "source": [
    "n_qubits"
   ]
  },
  {
   "cell_type": "markdown",
   "metadata": {},
   "source": [
    "### Split the data into train and test"
   ]
  },
  {
   "cell_type": "code",
   "execution_count": 7,
   "metadata": {
    "tags": []
   },
   "outputs": [],
   "source": [
    "test_size = int(0.2 * len(data_labels))\n",
    "test_index = np.random.randint(0, len(data_labels), test_size)\n",
    "\n",
    "test_data = data_groundstates[test_index]\n",
    "test_labels = data_labels[test_index]\n",
    "\n",
    "train_data = np.delete(data_groundstates,test_index.tolist(),0)\n",
    "train_labels = np.delete(data_labels,test_index.tolist(),0)"
   ]
  },
  {
   "cell_type": "code",
   "execution_count": null,
   "metadata": {},
   "outputs": [],
   "source": []
  },
  {
   "cell_type": "markdown",
   "metadata": {},
   "source": [
    "### Constructing objective functions"
   ]
  },
  {
   "cell_type": "code",
   "execution_count": 8,
   "metadata": {
    "tags": []
   },
   "outputs": [],
   "source": [
    "if cuda == True:\n",
    "    dev = qml.device(\"lightning.gpu\",wire)\n",
    "else:\n",
    "    dev = qml.device(\"default.qubit\",wire)\n",
    "    \n",
    "@qml.qnode(dev)\n",
    "def circuit(params, weights):\n",
    "    qml.StatePrep(params, wire)\n",
    "    TN_classifier.construct_circuit(weights)\n",
    "    return qml.expval(qml.PauliZ(0)@qml.PauliZ(1)@qml.PauliZ(2)@qml.PauliZ(3)@qml.PauliZ(4)@qml.PauliZ(5)@qml.PauliZ(6)@qml.PauliZ(7))\n",
    "    \n",
    "def variational_classifier(weights, bias, params):\n",
    "    return circuit(params, weights) + bias\n",
    "\n",
    "def loss_fn(labels, predictions):\n",
    "    return sum((labels - predictions)**2)/len(labels)\n",
    "\n",
    "def accuracy(labels, predictions):\n",
    "    acc = sum(abs(l - p) < 1e-5 for l, p in zip(labels, predictions))\n",
    "    acc = acc / len(labels)\n",
    "    return acc\n",
    "\n",
    "def cost(weights, bias, train_data, labels):\n",
    "    predictions = [variational_classifier(weights, bias, params) for params in train_data]\n",
    "    return loss_fn(labels, predictions)\n"
   ]
  },
  {
   "cell_type": "markdown",
   "metadata": {},
   "source": [
    "### Running the machine learning"
   ]
  },
  {
   "cell_type": "code",
   "execution_count": 9,
   "metadata": {
    "tags": []
   },
   "outputs": [],
   "source": [
    "np.random.seed(0)\n",
    "\n",
    "weights_init = 0.1 * np.random.randn(TN_classifier.n_params, requires_grad=True)\n",
    "bias_init = np.array(0.0, requires_grad=True)\n",
    "opt = qml.NesterovMomentumOptimizer(0.5)\n",
    "batch_size = 20"
   ]
  },
  {
   "cell_type": "code",
   "execution_count": 10,
   "metadata": {
    "tags": []
   },
   "outputs": [
    {
     "name": "stdout",
     "output_type": "stream",
     "text": [
      "Iter:    1 | Cost: 0.7870500 | Accuracy: 0.7654321\n",
      "Iter:    2 | Cost: 0.4816283 | Accuracy: 0.8024691\n",
      "Iter:    3 | Cost: 0.3606780 | Accuracy: 0.8518519\n",
      "Iter:    4 | Cost: 0.3723217 | Accuracy: 0.9506173\n",
      "Iter:    5 | Cost: 0.3574567 | Accuracy: 0.8765432\n",
      "Iter:    6 | Cost: 0.3482608 | Accuracy: 0.9382716\n",
      "Iter:    7 | Cost: 0.4152803 | Accuracy: 0.7654321\n",
      "Iter:    8 | Cost: 0.3319303 | Accuracy: 0.9135802\n",
      "Iter:    9 | Cost: 0.2891459 | Accuracy: 0.9135802\n",
      "Iter:   10 | Cost: 0.2925622 | Accuracy: 0.9012346\n",
      "Iter:   11 | Cost: 0.2985510 | Accuracy: 0.9506173\n",
      "Iter:   12 | Cost: 0.2789505 | Accuracy: 0.9135802\n",
      "Iter:   13 | Cost: 0.2731527 | Accuracy: 0.9382716\n",
      "Iter:   14 | Cost: 0.2804912 | Accuracy: 0.9135802\n",
      "Iter:   15 | Cost: 0.2671785 | Accuracy: 0.9506173\n",
      "Iter:   16 | Cost: 0.2722791 | Accuracy: 0.9259259\n",
      "Iter:   17 | Cost: 0.2758976 | Accuracy: 0.9135802\n",
      "Iter:   18 | Cost: 0.2597849 | Accuracy: 0.9506173\n",
      "Iter:   19 | Cost: 0.2653360 | Accuracy: 0.9629630\n",
      "Iter:   20 | Cost: 0.2651838 | Accuracy: 0.9382716\n",
      "Iter:   21 | Cost: 0.2593367 | Accuracy: 0.9506173\n",
      "Iter:   22 | Cost: 0.2653040 | Accuracy: 0.9382716\n",
      "Iter:   23 | Cost: 0.2571259 | Accuracy: 0.9506173\n",
      "Iter:   24 | Cost: 0.3319543 | Accuracy: 0.9876543\n",
      "Iter:   25 | Cost: 0.2637437 | Accuracy: 0.9506173\n",
      "Iter:   26 | Cost: 0.2598165 | Accuracy: 0.9629630\n",
      "Iter:   27 | Cost: 0.2830657 | Accuracy: 0.9876543\n",
      "Iter:   28 | Cost: 0.2529695 | Accuracy: 0.9382716\n",
      "Iter:   29 | Cost: 0.2492891 | Accuracy: 0.9382716\n",
      "Iter:   30 | Cost: 0.2649796 | Accuracy: 0.9259259\n",
      "Iter:   31 | Cost: 0.2468862 | Accuracy: 0.9629630\n",
      "Iter:   32 | Cost: 0.2788100 | Accuracy: 0.9876543\n",
      "Iter:   33 | Cost: 0.2406647 | Accuracy: 0.9506173\n",
      "Iter:   34 | Cost: 0.3025463 | Accuracy: 1.0000000\n",
      "Iter:   35 | Cost: 0.2700188 | Accuracy: 1.0000000\n",
      "Iter:   36 | Cost: 0.2382866 | Accuracy: 0.9876543\n",
      "Iter:   37 | Cost: 0.2124152 | Accuracy: 0.9753086\n",
      "Iter:   38 | Cost: 0.2035350 | Accuracy: 0.9753086\n",
      "Iter:   39 | Cost: 0.1979700 | Accuracy: 0.9753086\n",
      "Iter:   40 | Cost: 0.2295599 | Accuracy: 0.9506173\n",
      "Iter:   41 | Cost: 0.2824293 | Accuracy: 0.9753086\n",
      "Iter:   42 | Cost: 0.2018904 | Accuracy: 0.9876543\n",
      "Iter:   43 | Cost: 0.1916994 | Accuracy: 0.9876543\n",
      "Iter:   44 | Cost: 0.1850899 | Accuracy: 0.9629630\n",
      "Iter:   45 | Cost: 0.1925586 | Accuracy: 0.9506173\n",
      "Iter:   46 | Cost: 0.1936807 | Accuracy: 0.9876543\n",
      "Iter:   47 | Cost: 0.1790330 | Accuracy: 0.9629630\n",
      "Iter:   48 | Cost: 0.1702687 | Accuracy: 0.9876543\n",
      "Iter:   49 | Cost: 0.1651759 | Accuracy: 0.9753086\n",
      "Iter:   50 | Cost: 0.1615228 | Accuracy: 0.9876543\n",
      "Iter:   51 | Cost: 0.2053605 | Accuracy: 0.9382716\n",
      "Iter:   52 | Cost: 0.1647874 | Accuracy: 0.9753086\n",
      "Iter:   53 | Cost: 0.1717462 | Accuracy: 1.0000000\n",
      "Iter:   54 | Cost: 0.1642702 | Accuracy: 0.9629630\n",
      "Iter:   55 | Cost: 0.1785035 | Accuracy: 1.0000000\n",
      "Iter:   56 | Cost: 0.1711264 | Accuracy: 0.9629630\n",
      "Iter:   57 | Cost: 0.2069096 | Accuracy: 0.9876543\n"
     ]
    },
    {
     "ename": "KeyboardInterrupt",
     "evalue": "",
     "output_type": "error",
     "traceback": [
      "\u001b[0;31m---------------------------------------------------------------------------\u001b[0m",
      "\u001b[0;31mKeyboardInterrupt\u001b[0m                         Traceback (most recent call last)",
      "Cell \u001b[0;32mIn[10], line 14\u001b[0m\n\u001b[1;32m     11\u001b[0m weights, bias \u001b[38;5;241m=\u001b[39m opt\u001b[38;5;241m.\u001b[39mstep(cost, weights, bias, train_data\u001b[38;5;241m=\u001b[39mdata_batch, labels\u001b[38;5;241m=\u001b[39mlabel_batch)\n\u001b[1;32m     13\u001b[0m \u001b[38;5;66;03m# Compute accuracy\u001b[39;00m\n\u001b[0;32m---> 14\u001b[0m predictions \u001b[38;5;241m=\u001b[39m \u001b[43m[\u001b[49m\u001b[43mnp\u001b[49m\u001b[38;5;241;43m.\u001b[39;49m\u001b[43msign\u001b[49m\u001b[43m(\u001b[49m\u001b[43mvariational_classifier\u001b[49m\u001b[43m(\u001b[49m\u001b[43mweights\u001b[49m\u001b[43m,\u001b[49m\u001b[43m \u001b[49m\u001b[43mbias\u001b[49m\u001b[43m,\u001b[49m\u001b[43m \u001b[49m\u001b[43mdf\u001b[49m\u001b[43m)\u001b[49m\u001b[43m)\u001b[49m\u001b[43m \u001b[49m\u001b[38;5;28;43;01mfor\u001b[39;49;00m\u001b[43m \u001b[49m\u001b[43mdf\u001b[49m\u001b[43m \u001b[49m\u001b[38;5;129;43;01min\u001b[39;49;00m\u001b[43m \u001b[49m\u001b[43mtrain_data\u001b[49m\u001b[43m]\u001b[49m\n\u001b[1;32m     16\u001b[0m current_cost \u001b[38;5;241m=\u001b[39m cost(weights, bias, train_data, train_labels)\n\u001b[1;32m     17\u001b[0m acc \u001b[38;5;241m=\u001b[39m accuracy(train_labels, predictions)\n",
      "Cell \u001b[0;32mIn[10], line 14\u001b[0m, in \u001b[0;36m<listcomp>\u001b[0;34m(.0)\u001b[0m\n\u001b[1;32m     11\u001b[0m weights, bias \u001b[38;5;241m=\u001b[39m opt\u001b[38;5;241m.\u001b[39mstep(cost, weights, bias, train_data\u001b[38;5;241m=\u001b[39mdata_batch, labels\u001b[38;5;241m=\u001b[39mlabel_batch)\n\u001b[1;32m     13\u001b[0m \u001b[38;5;66;03m# Compute accuracy\u001b[39;00m\n\u001b[0;32m---> 14\u001b[0m predictions \u001b[38;5;241m=\u001b[39m [np\u001b[38;5;241m.\u001b[39msign(\u001b[43mvariational_classifier\u001b[49m\u001b[43m(\u001b[49m\u001b[43mweights\u001b[49m\u001b[43m,\u001b[49m\u001b[43m \u001b[49m\u001b[43mbias\u001b[49m\u001b[43m,\u001b[49m\u001b[43m \u001b[49m\u001b[43mdf\u001b[49m\u001b[43m)\u001b[49m) \u001b[38;5;28;01mfor\u001b[39;00m df \u001b[38;5;129;01min\u001b[39;00m train_data]\n\u001b[1;32m     16\u001b[0m current_cost \u001b[38;5;241m=\u001b[39m cost(weights, bias, train_data, train_labels)\n\u001b[1;32m     17\u001b[0m acc \u001b[38;5;241m=\u001b[39m accuracy(train_labels, predictions)\n",
      "Cell \u001b[0;32mIn[8], line 13\u001b[0m, in \u001b[0;36mvariational_classifier\u001b[0;34m(weights, bias, params)\u001b[0m\n\u001b[1;32m     12\u001b[0m \u001b[38;5;28;01mdef\u001b[39;00m \u001b[38;5;21mvariational_classifier\u001b[39m(weights, bias, params):\n\u001b[0;32m---> 13\u001b[0m     \u001b[38;5;28;01mreturn\u001b[39;00m \u001b[43mcircuit\u001b[49m\u001b[43m(\u001b[49m\u001b[43mparams\u001b[49m\u001b[43m,\u001b[49m\u001b[43m \u001b[49m\u001b[43mweights\u001b[49m\u001b[43m)\u001b[49m \u001b[38;5;241m+\u001b[39m bias\n",
      "File \u001b[0;32m/opt/.qbraid/environments/qbraid_000000/pyenv/lib/python3.11/site-packages/pennylane/qnode.py:1039\u001b[0m, in \u001b[0;36mQNode.__call__\u001b[0;34m(self, *args, **kwargs)\u001b[0m\n\u001b[1;32m   1034\u001b[0m         full_transform_program\u001b[38;5;241m.\u001b[39m_set_all_argnums(\n\u001b[1;32m   1035\u001b[0m             \u001b[38;5;28mself\u001b[39m, args, kwargs, argnums\n\u001b[1;32m   1036\u001b[0m         )  \u001b[38;5;66;03m# pylint: disable=protected-access\u001b[39;00m\n\u001b[1;32m   1038\u001b[0m \u001b[38;5;66;03m# pylint: disable=unexpected-keyword-arg\u001b[39;00m\n\u001b[0;32m-> 1039\u001b[0m res \u001b[38;5;241m=\u001b[39m \u001b[43mqml\u001b[49m\u001b[38;5;241;43m.\u001b[39;49m\u001b[43mexecute\u001b[49m\u001b[43m(\u001b[49m\n\u001b[1;32m   1040\u001b[0m \u001b[43m    \u001b[49m\u001b[43m(\u001b[49m\u001b[38;5;28;43mself\u001b[39;49m\u001b[38;5;241;43m.\u001b[39;49m\u001b[43m_tape\u001b[49m\u001b[43m,\u001b[49m\u001b[43m)\u001b[49m\u001b[43m,\u001b[49m\n\u001b[1;32m   1041\u001b[0m \u001b[43m    \u001b[49m\u001b[43mdevice\u001b[49m\u001b[38;5;241;43m=\u001b[39;49m\u001b[38;5;28;43mself\u001b[39;49m\u001b[38;5;241;43m.\u001b[39;49m\u001b[43mdevice\u001b[49m\u001b[43m,\u001b[49m\n\u001b[1;32m   1042\u001b[0m \u001b[43m    \u001b[49m\u001b[43mgradient_fn\u001b[49m\u001b[38;5;241;43m=\u001b[39;49m\u001b[38;5;28;43mself\u001b[39;49m\u001b[38;5;241;43m.\u001b[39;49m\u001b[43mgradient_fn\u001b[49m\u001b[43m,\u001b[49m\n\u001b[1;32m   1043\u001b[0m \u001b[43m    \u001b[49m\u001b[43minterface\u001b[49m\u001b[38;5;241;43m=\u001b[39;49m\u001b[38;5;28;43mself\u001b[39;49m\u001b[38;5;241;43m.\u001b[39;49m\u001b[43minterface\u001b[49m\u001b[43m,\u001b[49m\n\u001b[1;32m   1044\u001b[0m \u001b[43m    \u001b[49m\u001b[43mtransform_program\u001b[49m\u001b[38;5;241;43m=\u001b[39;49m\u001b[43mfull_transform_program\u001b[49m\u001b[43m,\u001b[49m\n\u001b[1;32m   1045\u001b[0m \u001b[43m    \u001b[49m\u001b[43mconfig\u001b[49m\u001b[38;5;241;43m=\u001b[39;49m\u001b[43mconfig\u001b[49m\u001b[43m,\u001b[49m\n\u001b[1;32m   1046\u001b[0m \u001b[43m    \u001b[49m\u001b[43mgradient_kwargs\u001b[49m\u001b[38;5;241;43m=\u001b[39;49m\u001b[38;5;28;43mself\u001b[39;49m\u001b[38;5;241;43m.\u001b[39;49m\u001b[43mgradient_kwargs\u001b[49m\u001b[43m,\u001b[49m\n\u001b[1;32m   1047\u001b[0m \u001b[43m    \u001b[49m\u001b[43moverride_shots\u001b[49m\u001b[38;5;241;43m=\u001b[39;49m\u001b[43moverride_shots\u001b[49m\u001b[43m,\u001b[49m\n\u001b[1;32m   1048\u001b[0m \u001b[43m    \u001b[49m\u001b[38;5;241;43m*\u001b[39;49m\u001b[38;5;241;43m*\u001b[39;49m\u001b[38;5;28;43mself\u001b[39;49m\u001b[38;5;241;43m.\u001b[39;49m\u001b[43mexecute_kwargs\u001b[49m\u001b[43m,\u001b[49m\n\u001b[1;32m   1049\u001b[0m \u001b[43m\u001b[49m\u001b[43m)\u001b[49m\n\u001b[1;32m   1051\u001b[0m res \u001b[38;5;241m=\u001b[39m res[\u001b[38;5;241m0\u001b[39m]\n\u001b[1;32m   1053\u001b[0m \u001b[38;5;66;03m# convert result to the interface in case the qfunc has no parameters\u001b[39;00m\n",
      "File \u001b[0;32m/opt/.qbraid/environments/qbraid_000000/pyenv/lib/python3.11/site-packages/pennylane/interfaces/execution.py:648\u001b[0m, in \u001b[0;36mexecute\u001b[0;34m(tapes, device, gradient_fn, interface, transform_program, config, grad_on_execution, gradient_kwargs, cache, cachesize, max_diff, override_shots, expand_fn, max_expansion, device_batch_transform, device_vjp)\u001b[0m\n\u001b[1;32m    646\u001b[0m \u001b[38;5;66;03m# Exiting early if we do not need to deal with an interface boundary\u001b[39;00m\n\u001b[1;32m    647\u001b[0m \u001b[38;5;28;01mif\u001b[39;00m no_interface_boundary_required:\n\u001b[0;32m--> 648\u001b[0m     results \u001b[38;5;241m=\u001b[39m \u001b[43minner_execute\u001b[49m\u001b[43m(\u001b[49m\u001b[43mtapes\u001b[49m\u001b[43m)\u001b[49m\n\u001b[1;32m    649\u001b[0m     \u001b[38;5;28;01mreturn\u001b[39;00m post_processing(results)\n\u001b[1;32m    651\u001b[0m _grad_on_execution \u001b[38;5;241m=\u001b[39m \u001b[38;5;28;01mFalse\u001b[39;00m\n",
      "File \u001b[0;32m/opt/.qbraid/environments/qbraid_000000/pyenv/lib/python3.11/site-packages/pennylane/interfaces/execution.py:261\u001b[0m, in \u001b[0;36m_make_inner_execute.<locals>.inner_execute\u001b[0;34m(tapes, **_)\u001b[0m\n\u001b[1;32m    259\u001b[0m \u001b[38;5;28;01mif\u001b[39;00m numpy_only:\n\u001b[1;32m    260\u001b[0m     tapes \u001b[38;5;241m=\u001b[39m \u001b[38;5;28mtuple\u001b[39m(qml\u001b[38;5;241m.\u001b[39mtransforms\u001b[38;5;241m.\u001b[39mconvert_to_numpy_parameters(t) \u001b[38;5;28;01mfor\u001b[39;00m t \u001b[38;5;129;01min\u001b[39;00m tapes)\n\u001b[0;32m--> 261\u001b[0m \u001b[38;5;28;01mreturn\u001b[39;00m \u001b[43mcached_device_execution\u001b[49m\u001b[43m(\u001b[49m\u001b[43mtapes\u001b[49m\u001b[43m)\u001b[49m\n",
      "File \u001b[0;32m/opt/.qbraid/environments/qbraid_000000/pyenv/lib/python3.11/site-packages/pennylane/interfaces/execution.py:344\u001b[0m, in \u001b[0;36mcache_execute.<locals>.wrapper\u001b[0;34m(tapes, **kwargs)\u001b[0m\n\u001b[1;32m    341\u001b[0m repeated \u001b[38;5;241m=\u001b[39m {}\n\u001b[1;32m    343\u001b[0m \u001b[38;5;28;01mfor\u001b[39;00m i, tape \u001b[38;5;129;01min\u001b[39;00m \u001b[38;5;28menumerate\u001b[39m(tapes):\n\u001b[0;32m--> 344\u001b[0m     h \u001b[38;5;241m=\u001b[39m \u001b[43mtape\u001b[49m\u001b[38;5;241;43m.\u001b[39;49m\u001b[43mhash\u001b[49m\n\u001b[1;32m    346\u001b[0m     \u001b[38;5;28;01mif\u001b[39;00m h \u001b[38;5;129;01min\u001b[39;00m hashes\u001b[38;5;241m.\u001b[39mvalues():\n\u001b[1;32m    347\u001b[0m         \u001b[38;5;66;03m# Tape already exists within ``tapes``. Determine the\u001b[39;00m\n\u001b[1;32m    348\u001b[0m         \u001b[38;5;66;03m# index of the first occurrence of the tape, store this,\u001b[39;00m\n\u001b[1;32m    349\u001b[0m         \u001b[38;5;66;03m# and continue to the next iteration.\u001b[39;00m\n\u001b[1;32m    350\u001b[0m         idx \u001b[38;5;241m=\u001b[39m \u001b[38;5;28mlist\u001b[39m(hashes\u001b[38;5;241m.\u001b[39mkeys())[\u001b[38;5;28mlist\u001b[39m(hashes\u001b[38;5;241m.\u001b[39mvalues())\u001b[38;5;241m.\u001b[39mindex(h)]\n",
      "File \u001b[0;32m/opt/.qbraid/environments/qbraid_000000/pyenv/lib/python3.11/site-packages/pennylane/tape/qscript.py:222\u001b[0m, in \u001b[0;36mQuantumScript.hash\u001b[0;34m(self)\u001b[0m\n\u001b[1;32m    220\u001b[0m \u001b[38;5;250m\u001b[39m\u001b[38;5;124;03m\"\"\"int: returns an integer hash uniquely representing the quantum script\"\"\"\u001b[39;00m\n\u001b[1;32m    221\u001b[0m fingerprint \u001b[38;5;241m=\u001b[39m []\n\u001b[0;32m--> 222\u001b[0m fingerprint\u001b[38;5;241m.\u001b[39mextend(op\u001b[38;5;241m.\u001b[39mhash \u001b[38;5;28;01mfor\u001b[39;00m op \u001b[38;5;129;01min\u001b[39;00m \u001b[38;5;28mself\u001b[39m\u001b[38;5;241m.\u001b[39moperations)\n\u001b[1;32m    223\u001b[0m fingerprint\u001b[38;5;241m.\u001b[39mextend(m\u001b[38;5;241m.\u001b[39mhash \u001b[38;5;28;01mfor\u001b[39;00m m \u001b[38;5;129;01min\u001b[39;00m \u001b[38;5;28mself\u001b[39m\u001b[38;5;241m.\u001b[39mmeasurements)\n\u001b[1;32m    224\u001b[0m fingerprint\u001b[38;5;241m.\u001b[39mextend(\u001b[38;5;28mself\u001b[39m\u001b[38;5;241m.\u001b[39mtrainable_params)\n",
      "File \u001b[0;32m/opt/.qbraid/environments/qbraid_000000/pyenv/lib/python3.11/site-packages/pennylane/tape/qscript.py:222\u001b[0m, in \u001b[0;36m<genexpr>\u001b[0;34m(.0)\u001b[0m\n\u001b[1;32m    220\u001b[0m \u001b[38;5;250m\u001b[39m\u001b[38;5;124;03m\"\"\"int: returns an integer hash uniquely representing the quantum script\"\"\"\u001b[39;00m\n\u001b[1;32m    221\u001b[0m fingerprint \u001b[38;5;241m=\u001b[39m []\n\u001b[0;32m--> 222\u001b[0m fingerprint\u001b[38;5;241m.\u001b[39mextend(\u001b[43mop\u001b[49m\u001b[38;5;241;43m.\u001b[39;49m\u001b[43mhash\u001b[49m \u001b[38;5;28;01mfor\u001b[39;00m op \u001b[38;5;129;01min\u001b[39;00m \u001b[38;5;28mself\u001b[39m\u001b[38;5;241m.\u001b[39moperations)\n\u001b[1;32m    223\u001b[0m fingerprint\u001b[38;5;241m.\u001b[39mextend(m\u001b[38;5;241m.\u001b[39mhash \u001b[38;5;28;01mfor\u001b[39;00m m \u001b[38;5;129;01min\u001b[39;00m \u001b[38;5;28mself\u001b[39m\u001b[38;5;241m.\u001b[39mmeasurements)\n\u001b[1;32m    224\u001b[0m fingerprint\u001b[38;5;241m.\u001b[39mextend(\u001b[38;5;28mself\u001b[39m\u001b[38;5;241m.\u001b[39mtrainable_params)\n",
      "File \u001b[0;32m/opt/.qbraid/environments/qbraid_000000/pyenv/lib/python3.11/site-packages/pennylane/operation.py:728\u001b[0m, in \u001b[0;36mOperator.hash\u001b[0;34m(self)\u001b[0m\n\u001b[1;32m    720\u001b[0m \u001b[38;5;129m@property\u001b[39m\n\u001b[1;32m    721\u001b[0m \u001b[38;5;28;01mdef\u001b[39;00m \u001b[38;5;21mhash\u001b[39m(\u001b[38;5;28mself\u001b[39m):\n\u001b[1;32m    722\u001b[0m \u001b[38;5;250m    \u001b[39m\u001b[38;5;124;03m\"\"\"int: Integer hash that uniquely represents the operator.\"\"\"\u001b[39;00m\n\u001b[1;32m    723\u001b[0m     \u001b[38;5;28;01mreturn\u001b[39;00m \u001b[38;5;28mhash\u001b[39m(\n\u001b[1;32m    724\u001b[0m         (\n\u001b[1;32m    725\u001b[0m             \u001b[38;5;28mstr\u001b[39m(\u001b[38;5;28mself\u001b[39m\u001b[38;5;241m.\u001b[39mname),\n\u001b[1;32m    726\u001b[0m             \u001b[38;5;28mtuple\u001b[39m(\u001b[38;5;28mself\u001b[39m\u001b[38;5;241m.\u001b[39mwires\u001b[38;5;241m.\u001b[39mtolist()),\n\u001b[1;32m    727\u001b[0m             \u001b[38;5;28mstr\u001b[39m(\u001b[38;5;28mself\u001b[39m\u001b[38;5;241m.\u001b[39mhyperparameters\u001b[38;5;241m.\u001b[39mvalues()),\n\u001b[0;32m--> 728\u001b[0m             \u001b[43m_process_data\u001b[49m\u001b[43m(\u001b[49m\u001b[38;5;28;43mself\u001b[39;49m\u001b[43m)\u001b[49m,\n\u001b[1;32m    729\u001b[0m         )\n\u001b[1;32m    730\u001b[0m     )\n",
      "File \u001b[0;32m/opt/.qbraid/environments/qbraid_000000/pyenv/lib/python3.11/site-packages/pennylane/operation.py:393\u001b[0m, in \u001b[0;36m_process_data\u001b[0;34m(op)\u001b[0m\n\u001b[1;32m    388\u001b[0m \u001b[38;5;28;01mdef\u001b[39;00m \u001b[38;5;21m_process_data\u001b[39m(op):\n\u001b[1;32m    389\u001b[0m     \u001b[38;5;66;03m# Use qml.math.real to take the real part. We may get complex inputs for\u001b[39;00m\n\u001b[1;32m    390\u001b[0m     \u001b[38;5;66;03m# example when differentiating holomorphic functions with JAX: a complex\u001b[39;00m\n\u001b[1;32m    391\u001b[0m     \u001b[38;5;66;03m# valued QNode (one that returns qml.state) requires complex typed inputs.\u001b[39;00m\n\u001b[1;32m    392\u001b[0m     \u001b[38;5;28;01mif\u001b[39;00m op\u001b[38;5;241m.\u001b[39mname \u001b[38;5;129;01min\u001b[39;00m (\u001b[38;5;124m\"\u001b[39m\u001b[38;5;124mRX\u001b[39m\u001b[38;5;124m\"\u001b[39m, \u001b[38;5;124m\"\u001b[39m\u001b[38;5;124mRY\u001b[39m\u001b[38;5;124m\"\u001b[39m, \u001b[38;5;124m\"\u001b[39m\u001b[38;5;124mRZ\u001b[39m\u001b[38;5;124m\"\u001b[39m, \u001b[38;5;124m\"\u001b[39m\u001b[38;5;124mPhaseShift\u001b[39m\u001b[38;5;124m\"\u001b[39m, \u001b[38;5;124m\"\u001b[39m\u001b[38;5;124mRot\u001b[39m\u001b[38;5;124m\"\u001b[39m):\n\u001b[0;32m--> 393\u001b[0m         \u001b[38;5;28;01mreturn\u001b[39;00m \u001b[38;5;28mstr\u001b[39m(\u001b[43m[\u001b[49m\u001b[43mqml\u001b[49m\u001b[38;5;241;43m.\u001b[39;49m\u001b[43mmath\u001b[49m\u001b[38;5;241;43m.\u001b[39;49m\u001b[43mround\u001b[49m\u001b[43m(\u001b[49m\u001b[43mqml\u001b[49m\u001b[38;5;241;43m.\u001b[39;49m\u001b[43mmath\u001b[49m\u001b[38;5;241;43m.\u001b[39;49m\u001b[43mreal\u001b[49m\u001b[43m(\u001b[49m\u001b[43md\u001b[49m\u001b[43m)\u001b[49m\u001b[43m \u001b[49m\u001b[38;5;241;43m%\u001b[39;49m\u001b[43m \u001b[49m\u001b[43m(\u001b[49m\u001b[38;5;241;43m2\u001b[39;49m\u001b[43m \u001b[49m\u001b[38;5;241;43m*\u001b[39;49m\u001b[43m \u001b[49m\u001b[43mnp\u001b[49m\u001b[38;5;241;43m.\u001b[39;49m\u001b[43mpi\u001b[49m\u001b[43m)\u001b[49m\u001b[43m,\u001b[49m\u001b[43m \u001b[49m\u001b[38;5;241;43m10\u001b[39;49m\u001b[43m)\u001b[49m\u001b[43m \u001b[49m\u001b[38;5;28;43;01mfor\u001b[39;49;00m\u001b[43m \u001b[49m\u001b[43md\u001b[49m\u001b[43m \u001b[49m\u001b[38;5;129;43;01min\u001b[39;49;00m\u001b[43m \u001b[49m\u001b[43mop\u001b[49m\u001b[38;5;241;43m.\u001b[39;49m\u001b[43mdata\u001b[49m\u001b[43m]\u001b[49m)\n\u001b[1;32m    395\u001b[0m     \u001b[38;5;28;01mif\u001b[39;00m op\u001b[38;5;241m.\u001b[39mname \u001b[38;5;129;01min\u001b[39;00m (\u001b[38;5;124m\"\u001b[39m\u001b[38;5;124mCRX\u001b[39m\u001b[38;5;124m\"\u001b[39m, \u001b[38;5;124m\"\u001b[39m\u001b[38;5;124mCRY\u001b[39m\u001b[38;5;124m\"\u001b[39m, \u001b[38;5;124m\"\u001b[39m\u001b[38;5;124mCRZ\u001b[39m\u001b[38;5;124m\"\u001b[39m, \u001b[38;5;124m\"\u001b[39m\u001b[38;5;124mCRot\u001b[39m\u001b[38;5;124m\"\u001b[39m):\n\u001b[1;32m    396\u001b[0m         \u001b[38;5;28;01mreturn\u001b[39;00m \u001b[38;5;28mstr\u001b[39m([qml\u001b[38;5;241m.\u001b[39mmath\u001b[38;5;241m.\u001b[39mround(qml\u001b[38;5;241m.\u001b[39mmath\u001b[38;5;241m.\u001b[39mreal(d) \u001b[38;5;241m%\u001b[39m (\u001b[38;5;241m4\u001b[39m \u001b[38;5;241m*\u001b[39m np\u001b[38;5;241m.\u001b[39mpi), \u001b[38;5;241m10\u001b[39m) \u001b[38;5;28;01mfor\u001b[39;00m d \u001b[38;5;129;01min\u001b[39;00m op\u001b[38;5;241m.\u001b[39mdata])\n",
      "File \u001b[0;32m/opt/.qbraid/environments/qbraid_000000/pyenv/lib/python3.11/site-packages/pennylane/operation.py:393\u001b[0m, in \u001b[0;36m<listcomp>\u001b[0;34m(.0)\u001b[0m\n\u001b[1;32m    388\u001b[0m \u001b[38;5;28;01mdef\u001b[39;00m \u001b[38;5;21m_process_data\u001b[39m(op):\n\u001b[1;32m    389\u001b[0m     \u001b[38;5;66;03m# Use qml.math.real to take the real part. We may get complex inputs for\u001b[39;00m\n\u001b[1;32m    390\u001b[0m     \u001b[38;5;66;03m# example when differentiating holomorphic functions with JAX: a complex\u001b[39;00m\n\u001b[1;32m    391\u001b[0m     \u001b[38;5;66;03m# valued QNode (one that returns qml.state) requires complex typed inputs.\u001b[39;00m\n\u001b[1;32m    392\u001b[0m     \u001b[38;5;28;01mif\u001b[39;00m op\u001b[38;5;241m.\u001b[39mname \u001b[38;5;129;01min\u001b[39;00m (\u001b[38;5;124m\"\u001b[39m\u001b[38;5;124mRX\u001b[39m\u001b[38;5;124m\"\u001b[39m, \u001b[38;5;124m\"\u001b[39m\u001b[38;5;124mRY\u001b[39m\u001b[38;5;124m\"\u001b[39m, \u001b[38;5;124m\"\u001b[39m\u001b[38;5;124mRZ\u001b[39m\u001b[38;5;124m\"\u001b[39m, \u001b[38;5;124m\"\u001b[39m\u001b[38;5;124mPhaseShift\u001b[39m\u001b[38;5;124m\"\u001b[39m, \u001b[38;5;124m\"\u001b[39m\u001b[38;5;124mRot\u001b[39m\u001b[38;5;124m\"\u001b[39m):\n\u001b[0;32m--> 393\u001b[0m         \u001b[38;5;28;01mreturn\u001b[39;00m \u001b[38;5;28mstr\u001b[39m([qml\u001b[38;5;241m.\u001b[39mmath\u001b[38;5;241m.\u001b[39mround(\u001b[43mqml\u001b[49m\u001b[38;5;241;43m.\u001b[39;49m\u001b[43mmath\u001b[49m\u001b[38;5;241;43m.\u001b[39;49m\u001b[43mreal\u001b[49m\u001b[43m(\u001b[49m\u001b[43md\u001b[49m\u001b[43m)\u001b[49m\u001b[43m \u001b[49m\u001b[38;5;241;43m%\u001b[39;49m\u001b[43m \u001b[49m\u001b[43m(\u001b[49m\u001b[38;5;241;43m2\u001b[39;49m\u001b[43m \u001b[49m\u001b[38;5;241;43m*\u001b[39;49m\u001b[43m \u001b[49m\u001b[43mnp\u001b[49m\u001b[38;5;241;43m.\u001b[39;49m\u001b[43mpi\u001b[49m\u001b[43m)\u001b[49m, \u001b[38;5;241m10\u001b[39m) \u001b[38;5;28;01mfor\u001b[39;00m d \u001b[38;5;129;01min\u001b[39;00m op\u001b[38;5;241m.\u001b[39mdata])\n\u001b[1;32m    395\u001b[0m     \u001b[38;5;28;01mif\u001b[39;00m op\u001b[38;5;241m.\u001b[39mname \u001b[38;5;129;01min\u001b[39;00m (\u001b[38;5;124m\"\u001b[39m\u001b[38;5;124mCRX\u001b[39m\u001b[38;5;124m\"\u001b[39m, \u001b[38;5;124m\"\u001b[39m\u001b[38;5;124mCRY\u001b[39m\u001b[38;5;124m\"\u001b[39m, \u001b[38;5;124m\"\u001b[39m\u001b[38;5;124mCRZ\u001b[39m\u001b[38;5;124m\"\u001b[39m, \u001b[38;5;124m\"\u001b[39m\u001b[38;5;124mCRot\u001b[39m\u001b[38;5;124m\"\u001b[39m):\n\u001b[1;32m    396\u001b[0m         \u001b[38;5;28;01mreturn\u001b[39;00m \u001b[38;5;28mstr\u001b[39m([qml\u001b[38;5;241m.\u001b[39mmath\u001b[38;5;241m.\u001b[39mround(qml\u001b[38;5;241m.\u001b[39mmath\u001b[38;5;241m.\u001b[39mreal(d) \u001b[38;5;241m%\u001b[39m (\u001b[38;5;241m4\u001b[39m \u001b[38;5;241m*\u001b[39m np\u001b[38;5;241m.\u001b[39mpi), \u001b[38;5;241m10\u001b[39m) \u001b[38;5;28;01mfor\u001b[39;00m d \u001b[38;5;129;01min\u001b[39;00m op\u001b[38;5;241m.\u001b[39mdata])\n",
      "File \u001b[0;32m/opt/.qbraid/environments/qbraid_000000/pyenv/lib/python3.11/site-packages/pennylane/numpy/tensor.py:151\u001b[0m, in \u001b[0;36mtensor.__array_ufunc__\u001b[0;34m(self, ufunc, method, *inputs, **kwargs)\u001b[0m\n\u001b[1;32m    148\u001b[0m     outputs \u001b[38;5;241m=\u001b[39m (\u001b[38;5;28;01mNone\u001b[39;00m,) \u001b[38;5;241m*\u001b[39m ufunc\u001b[38;5;241m.\u001b[39mnout\n\u001b[1;32m    150\u001b[0m \u001b[38;5;66;03m# unwrap the input arguments to the ufunc\u001b[39;00m\n\u001b[0;32m--> 151\u001b[0m args \u001b[38;5;241m=\u001b[39m \u001b[43m[\u001b[49m\u001b[43mi\u001b[49m\u001b[38;5;241;43m.\u001b[39;49m\u001b[43munwrap\u001b[49m\u001b[43m(\u001b[49m\u001b[43m)\u001b[49m\u001b[43m \u001b[49m\u001b[38;5;28;43;01mif\u001b[39;49;00m\u001b[43m \u001b[49m\u001b[38;5;28;43mhasattr\u001b[39;49m\u001b[43m(\u001b[49m\u001b[43mi\u001b[49m\u001b[43m,\u001b[49m\u001b[43m \u001b[49m\u001b[38;5;124;43m\"\u001b[39;49m\u001b[38;5;124;43munwrap\u001b[39;49m\u001b[38;5;124;43m\"\u001b[39;49m\u001b[43m)\u001b[49m\u001b[43m \u001b[49m\u001b[38;5;28;43;01melse\u001b[39;49;00m\u001b[43m \u001b[49m\u001b[43mi\u001b[49m\u001b[43m \u001b[49m\u001b[38;5;28;43;01mfor\u001b[39;49;00m\u001b[43m \u001b[49m\u001b[43mi\u001b[49m\u001b[43m \u001b[49m\u001b[38;5;129;43;01min\u001b[39;49;00m\u001b[43m \u001b[49m\u001b[43minputs\u001b[49m\u001b[43m]\u001b[49m\n\u001b[1;32m    153\u001b[0m \u001b[38;5;66;03m# call the ndarray.__array_ufunc__ method to compute the result\u001b[39;00m\n\u001b[1;32m    154\u001b[0m \u001b[38;5;66;03m# of the vectorized ufunc\u001b[39;00m\n\u001b[1;32m    155\u001b[0m res \u001b[38;5;241m=\u001b[39m \u001b[38;5;28msuper\u001b[39m()\u001b[38;5;241m.\u001b[39m__array_ufunc__(ufunc, method, \u001b[38;5;241m*\u001b[39margs, \u001b[38;5;241m*\u001b[39m\u001b[38;5;241m*\u001b[39mkwargs)\n",
      "File \u001b[0;32m/opt/.qbraid/environments/qbraid_000000/pyenv/lib/python3.11/site-packages/pennylane/numpy/tensor.py:151\u001b[0m, in \u001b[0;36m<listcomp>\u001b[0;34m(.0)\u001b[0m\n\u001b[1;32m    148\u001b[0m     outputs \u001b[38;5;241m=\u001b[39m (\u001b[38;5;28;01mNone\u001b[39;00m,) \u001b[38;5;241m*\u001b[39m ufunc\u001b[38;5;241m.\u001b[39mnout\n\u001b[1;32m    150\u001b[0m \u001b[38;5;66;03m# unwrap the input arguments to the ufunc\u001b[39;00m\n\u001b[0;32m--> 151\u001b[0m args \u001b[38;5;241m=\u001b[39m [i\u001b[38;5;241m.\u001b[39munwrap() \u001b[38;5;28;01mif\u001b[39;00m \u001b[38;5;28mhasattr\u001b[39m(i, \u001b[38;5;124m\"\u001b[39m\u001b[38;5;124munwrap\u001b[39m\u001b[38;5;124m\"\u001b[39m) \u001b[38;5;28;01melse\u001b[39;00m i \u001b[38;5;28;01mfor\u001b[39;00m i \u001b[38;5;129;01min\u001b[39;00m inputs]\n\u001b[1;32m    153\u001b[0m \u001b[38;5;66;03m# call the ndarray.__array_ufunc__ method to compute the result\u001b[39;00m\n\u001b[1;32m    154\u001b[0m \u001b[38;5;66;03m# of the vectorized ufunc\u001b[39;00m\n\u001b[1;32m    155\u001b[0m res \u001b[38;5;241m=\u001b[39m \u001b[38;5;28msuper\u001b[39m()\u001b[38;5;241m.\u001b[39m__array_ufunc__(ufunc, method, \u001b[38;5;241m*\u001b[39margs, \u001b[38;5;241m*\u001b[39m\u001b[38;5;241m*\u001b[39mkwargs)\n",
      "\u001b[0;31mKeyboardInterrupt\u001b[0m: "
     ]
    }
   ],
   "source": [
    "weights = weights_init\n",
    "bias = bias_init\n",
    "for it in range(100):\n",
    "\n",
    "    # Update the weights by one optimizer step, using only a limited batch of data\n",
    "    batch_index = np.random.randint(0, len(train_labels), (batch_size,))\n",
    "    data_batch = train_data[batch_index]\n",
    "    label_batch = train_labels[batch_index]\n",
    "    \n",
    "    \n",
    "    weights, bias = opt.step(cost, weights, bias, train_data=data_batch, labels=label_batch)\n",
    "\n",
    "    # Compute accuracy\n",
    "    predictions = [np.sign(variational_classifier(weights, bias, df)) for df in train_data]\n",
    "\n",
    "    current_cost = cost(weights, bias, train_data, train_labels)\n",
    "    acc = accuracy(train_labels, predictions)\n",
    "\n",
    "    print(f\"Iter: {it+1:4d} | Cost: {current_cost:0.7f} | Accuracy: {acc:0.7f}\")"
   ]
  },
  {
   "cell_type": "markdown",
   "metadata": {},
   "source": [
    "### Checking the performance on the test set"
   ]
  },
  {
   "cell_type": "code",
   "execution_count": 11,
   "metadata": {
    "tags": []
   },
   "outputs": [
    {
     "name": "stdout",
     "output_type": "stream",
     "text": [
      "Accuracy on test data: 1.0\n"
     ]
    }
   ],
   "source": [
    "predictions_test = [np.sign(variational_classifier(weights, bias, df)) for df in test_data]\n",
    "\n",
    "acc_test = accuracy(test_labels, predictions_test)\n",
    "\n",
    "print(\"Accuracy on test data:\", acc_test)"
   ]
  },
  {
   "cell_type": "code",
   "execution_count": 12,
   "metadata": {},
   "outputs": [],
   "source": [
    "%matplotlib inline\n",
    "\n",
    "preds = []\n",
    "for i in range(len(data_groundstates)):\n",
    "    preds.append(variational_classifier(weights, bias, data_groundstates[i]))"
   ]
  },
  {
   "cell_type": "code",
   "execution_count": 14,
   "metadata": {},
   "outputs": [
    {
     "data": {
      "image/png": "[encoded data removed]",
      "text/plain": [
       "<Figure size 900x600 with 1 Axes>"
      ]
     },
     "metadata": {},
     "output_type": "display_data"
    }
   ],
   "source": [
    "fields = np.array(data_Ising[0].parameters['h'])\n",
    "plt.scatter(fields, preds)\n",
    "\n",
    "plt.xlabel(r'$h$')\n",
    "plt.ylabel('Prediction of label II')\n",
    "plt.grid()\n",
    "plt.ylim([-1, 1])\n",
    "plt.xlim([0, 4])\n",
    "plt.plot([1, 1], [-1, 1], 'r')\n",
    "plt.text(0.35, 0.63, 'I', fontsize=24, fontfamily='serif')\n",
    "plt.text(1.6, 0.63, 'II', fontsize=24, fontfamily='serif')\n",
    "plt.plot([4, 0], [0,0], 'r--')\n",
    "plt.show()"
   ]
  },
  {
   "cell_type": "code",
   "execution_count": null,
   "metadata": {},
   "outputs": [],
   "source": []
  }
 ],
 "metadata": {
  "kernelspec": {
   "display_name": "Python 3 [Default]",
   "language": "python",
   "name": "python3"
  },
  "language_info": {
   "codemirror_mode": {
    "name": "ipython",
    "version": 3
   },
   "file_extension": ".py",
   "mimetype": "text/x-python",
   "name": "python",
   "nbconvert_exporter": "python",
   "pygments_lexer": "ipython3",
   "version": "3.11.7"
  }
 },
 "nbformat": 4,
 "nbformat_minor": 4
}
