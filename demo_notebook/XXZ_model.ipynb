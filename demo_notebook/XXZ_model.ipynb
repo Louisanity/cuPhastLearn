{
 "cells": [
  {
   "cell_type": "markdown",
   "metadata": {},
   "source": [
    "## Classifying a phase transition in the XXZ model"
   ]
  },
  {
   "cell_type": "code",
   "execution_count": 1,
   "metadata": {},
   "outputs": [],
   "source": [
    "import numpy as np\n",
    "from qiskit import QuantumRegister, ClassicalRegister, QuantumCircuit\n",
    "from qiskit import Aer, execute\n",
    "import qiskit.extensions.quantum_initializer as qeqi\n",
    "import time\n",
    "from scipy.optimize import minimize, approx_fprime\n",
    "import matplotlib.pyplot as plt\n",
    "import scipy.sparse.linalg as SPLA\n",
    "import csv\n",
    "import pandas as pd\n",
    "from functools import reduce\n",
    "from skopt import gp_minimize\n",
    "from numba import jit, njit\n",
    "from copy import copy, deepcopy\n",
    "\n",
    "import sys\n",
    "sys.path.append(\"..\")\n",
    "\n",
    "import Entangler\n",
    "import TensorNetwork\n",
    "import hamiltonians\n",
    "import TNOptimize\n",
    "import uuid\n",
    "import json\n",
    "import utils\n",
    "\n",
    "plt.rcParams.update({'font.size': 18})\n",
    "plt.rcParams.update({'figure.figsize': [9, 6]})"
   ]
  },
  {
   "cell_type": "code",
   "execution_count": 3,
   "metadata": {},
   "outputs": [],
   "source": [
    "n_qubits = 10\n",
    "depth = 4\n",
    "depth_classifier = 6\n",
    "q, c = QuantumRegister(n_qubits), ClassicalRegister(n_qubits)\n",
    "ent = Entangler.IsingEntangler()\n",
    "TN = TensorNetwork.Checkerboard(q, c, ent, depth=depth)\n",
    "# TN_UCC = TensorNetwork.UCCSD(q, c)\n",
    "TN_classifier = TensorNetwork.Checkerboard(q, c, ent, depth=depth_classifier)\n",
    "\n",
    "\n",
    "tol = 1e-6\n",
    "method = \"L-BFGS-B\"\n",
    "n_max = 2**n_qubits + 100\n",
    "n_cdata = 2**n_qubits\n",
    "sv_b = Aer.get_backend(\"statevector_simulator\")\n",
    "qasm_b = Aer.get_backend(\"qasm_simulator\")\n",
    "unitary_b = Aer.get_backend('unitary_simulator')"
   ]
  },
  {
   "cell_type": "markdown",
   "metadata": {},
   "source": [
    "### Loading the data"
   ]
  },
  {
   "cell_type": "markdown",
   "metadata": {},
   "source": [
    "The data set contains the rows where first 1024 entries are the wavefunction, next 100 are the parameters, then the Jz parameter, energy, and label"
   ]
  },
  {
   "cell_type": "code",
   "execution_count": 5,
   "metadata": {},
   "outputs": [],
   "source": [
    "import pandas as pd\n",
    "import numpy as np\n",
    "\n",
    "# Assuming filenames and n_max are defined as before\n",
    "small_data = \"vqe_2024-02-17_17-27-47.csv\"\n",
    "bigger_data = \"vqe_2024-02-17_17-27-47.csv\"\n",
    "gpu_data = \"vqe_2024-02-17_17-27-47.csv\"\n",
    "filename = bigger_data\n",
    "\n",
    "# Assuming n_max is defined somewhere in your code\n",
    "# n_max = ...\n",
    "\n",
    "df_vqe_2 = pd.read_csv(filename, header=None)\n",
    "# Use complex (the built-in type) directly\n",
    "df_vqe_2 = df_vqe_2.applymap(lambda x: complex(x))\n",
    "\n",
    "# Converting specific columns to real, assuming n_max is properly defined\n",
    "df_vqe_2[n_max] = df_vqe_2[n_max].apply(lambda x: x.real)\n",
    "df_vqe_2[n_max+1] = df_vqe_2[n_max+1].apply(lambda x: x.real)\n",
    "df_vqe_2[n_max+2] = df_vqe_2[n_max+2].apply(lambda x: x.real)\n",
    "\n",
    "# If df_vqe_2.drop([0, 1]) was intended to remove the first two rows, use:\n",
    "# df_vqe = df_vqe_2.drop([0, 1], axis=0)\n",
    "# If it was intended to remove the first two columns, use:\n",
    "# df_vqe = df_vqe_2.drop([0, 1], axis=1)\n",
    "\n",
    "# If no rows or columns were meant to be dropped based on the commented line,\n",
    "# just assign df_vqe_2 to df_vqe\n",
    "df_vqe = df_vqe_2\n"
   ]
  },
  {
   "cell_type": "markdown",
   "metadata": {},
   "source": [
    "### Cleaning the data"
   ]
  },
  {
   "cell_type": "code",
   "execution_count": 6,
   "metadata": {},
   "outputs": [
    {
     "name": "stdout",
     "output_type": "stream",
     "text": [
      "     1124       1125\n",
      "0   0.000 -12.446647\n",
      "1   0.000 -12.436976\n",
      "2   0.002 -12.444494\n",
      "3   0.002 -12.461848\n",
      "4   0.004 -12.469379\n",
      "5   0.004 -12.452020\n",
      "6   0.006 -12.476913\n",
      "7   0.006 -12.459552\n",
      "8   0.008 -12.467089\n",
      "9   0.008 -12.484449\n",
      "10  0.010 -12.474632\n",
      "11  0.010 -12.491989\n",
      "12  0.012 -12.482181\n",
      "13  0.012 -12.499533\n",
      "14  0.014 -12.489733\n",
      "15  0.014 -12.507081\n",
      "16  0.016 -12.497290\n",
      "17  0.016 -12.514633\n",
      "18  0.018 -12.522189\n",
      "19  0.018 -12.504719\n",
      "[1, 2, 5, 7, 8, 10, 12, 14, 16, 19]\n",
      "[0, 3, 4, 6, 9, 11, 13, 15, 17, 18]\n",
      "=============\n",
      "     1124       1125\n",
      "0   0.000 -12.446647\n",
      "3   0.002 -12.461848\n",
      "4   0.004 -12.469379\n",
      "6   0.006 -12.476913\n",
      "9   0.008 -12.484449\n",
      "11  0.010 -12.491989\n",
      "13  0.012 -12.499533\n",
      "15  0.014 -12.507081\n",
      "17  0.016 -12.514633\n",
      "18  0.018 -12.522189\n"
     ]
    }
   ],
   "source": [
    "df_vqe_clean = df_vqe.sort_values(by=[n_max])\n",
    "df_vqe_clean.index = np.arange(len(df_vqe))\n",
    "# df_vqe_clean = df_vqe.sort_index(by=[n_max])\n",
    "\n",
    "todrop = []\n",
    "tokeep = []\n",
    "for i in range(len(df_vqe) // 2):\n",
    "    E_1 = df_vqe_clean.iloc[i * 2, n_max + 1]\n",
    "    E_2 = df_vqe_clean.iloc[i * 2 + 1, n_max + 1]\n",
    "    h_1 = df_vqe_clean.iloc[i * 2, n_max]\n",
    "    h_2 = df_vqe_clean.iloc[i * 2 + 1, n_max]\n",
    "#     print(h_1, h_2)\n",
    "#     print(E_1, E_2)\n",
    "#     print(\"====\")\n",
    "    if (E_2 > E_1):\n",
    "        todrop.append(i * 2 + 1)\n",
    "        tokeep.append(i * 2)\n",
    "    else:\n",
    "        todrop.append(i * 2)\n",
    "        tokeep.append(i * 2 + 1)\n",
    "\n",
    "        \n",
    "for i in range(len(df_vqe) // 2):\n",
    "    E_kept = df_vqe_clean.iloc[tokeep[i], n_max + 1]\n",
    "    E_dropped = df_vqe_clean.iloc[todrop[i], n_max + 1]\n",
    "    if E_dropped < E_kept:\n",
    "        print(\"AAA\")\n",
    "\n",
    "print(df_vqe_clean.iloc[:20, [n_max, n_max + 1]])\n",
    "\n",
    "print(todrop[:10])\n",
    "print(tokeep[:10])\n",
    "\n",
    "print(\"=============\")        \n",
    "        \n",
    "df_vqe_clean = df_vqe_clean.drop(todrop)\n",
    "print(df_vqe_clean.iloc[:10, [n_max, n_max + 1]])"
   ]
  },
  {
   "cell_type": "code",
   "execution_count": 7,
   "metadata": {},
   "outputs": [
    {
     "data": {
      "text/plain": [
       "1000"
      ]
     },
     "execution_count": 7,
     "metadata": {},
     "output_type": "execute_result"
    }
   ],
   "source": [
    "len(df_vqe_clean)"
   ]
  },
  {
   "cell_type": "markdown",
   "metadata": {},
   "source": [
    "### Augmenting the data"
   ]
  },
  {
   "cell_type": "markdown",
   "metadata": {},
   "source": [
    "#### Flips\n",
    "\n",
    "First I am going to flip the spins along the X direction. Then for each of the data points I will also add a random Z rotation."
   ]
  },
  {
   "cell_type": "code",
   "execution_count": 8,
   "metadata": {},
   "outputs": [],
   "source": [
    "df_flip = df_vqe_clean.copy()\n",
    "# df_flip = df_vqe.copy()\n",
    "df_flip.index = np.arange(len(df_flip))\n"
   ]
  },
  {
   "cell_type": "code",
   "execution_count": 9,
   "metadata": {},
   "outputs": [],
   "source": [
    "## hardcoded for 10 qubits and depth 4\n",
    "z_gate_indices = [74 + i * 5 + k for i in range(5) for k in (4, 5)]\n",
    "x_gate_indices = [74 + i * 5 + k for i in range(5) for k in (1, 2)]"
   ]
  },
  {
   "cell_type": "code",
   "execution_count": 10,
   "metadata": {},
   "outputs": [],
   "source": [
    "for n in z_gate_indices:\n",
    "    df_flip[2**n_qubits + n] *= -1\n",
    "\n",
    "for n in x_gate_indices:\n",
    "    df_flip[2**n_qubits + n] += np.pi"
   ]
  },
  {
   "cell_type": "code",
   "execution_count": 11,
   "metadata": {},
   "outputs": [],
   "source": [
    "wavefun_cols_order = list(reversed(range(1024)))\n",
    "cols_order = wavefun_cols_order + list(range(1024, n_max + 3))\n",
    "df_flip = df_flip.reindex(columns=cols_order)"
   ]
  },
  {
   "cell_type": "markdown",
   "metadata": {},
   "source": [
    "To check the correctness of the flip operation, I will now check that the wavefunction, ansatz parameters and the energy are consistent"
   ]
  },
  {
   "cell_type": "code",
   "execution_count": 14,
   "metadata": {},
   "outputs": [
    {
     "name": "stderr",
     "output_type": "stream",
     "text": [
      "C:\\Users\\Louis\\AppData\\Roaming\\Python\\Python311\\site-packages\\pandas\\core\\series.py:917: ComplexWarning: Casting complex values to real discards the imaginary part\n",
      "  arr = np.asarray(values, dtype=dtype)\n",
      "C:\\Users\\Louis\\AppData\\Local\\Temp\\ipykernel_3332\\1080335451.py:29: DeprecationWarning: The return type of saved statevectors has been changed from a `numpy.ndarray` to a `qiskit.quantum_info.Statevector` as of qiskit-aer 0.10. Accessing numpy array attributes is deprecated and will result in an error in a future release. To continue using saved result objects as arrays you can explicitly cast them using  `np.asarray(object)`.\n",
      "  product = abs(state_built.conj().T @ state).item()\n"
     ]
    },
    {
     "name": "stdout",
     "output_type": "stream",
     "text": [
      "All OK\n"
     ]
    }
   ],
   "source": [
    "# Initialize Hamiltonians\n",
    "h_0 = hamiltonians.xxz_heisenberg_model(10, 1, 0)\n",
    "h_1 = hamiltonians.xxz_heisenberg_model(10, 0, 1)\n",
    "H_0 = hamiltonians.explicit_hamiltonian(h_0)\n",
    "H_1 = hamiltonians.explicit_hamiltonian(h_1)\n",
    "\n",
    "energy_off = False\n",
    "statebuilding_error = False\n",
    "\n",
    "for i, row in df_flip.iterrows():\n",
    "    # Extract state and energy information\n",
    "    state = np.array(row[:2**n_qubits], dtype=np.complex128)\n",
    "    E = row[n_max + 1].real\n",
    "    h = row[n_max].real\n",
    "    \n",
    "    # Calculate the expected energy\n",
    "    E_fact = (state.conj().T @ (H_0 + h * H_1) @ state).real.item()\n",
    "    \n",
    "    if not np.isclose(E, E_fact):\n",
    "        print(f\"Found energy error in row {i}\")\n",
    "        energy_off = True\n",
    "    \n",
    "    # Build the quantum circuit and retrieve the state\n",
    "    params = np.array(row[2**n_qubits : 2**n_qubits + 100], dtype=np.float64)  \n",
    "    circ = TN.construct_circuit(params)\n",
    "    state_built = utils.get_state(circ)\n",
    "    \n",
    "    # Check for state-building accuracy\n",
    "    product = abs(state_built.conj().T @ state).item()\n",
    "    if not np.isclose(product, 1):\n",
    "        print(f\"Found state vs params error in row {i}\")\n",
    "        statebuilding_error = True\n",
    "\n",
    "if not energy_off and not statebuilding_error:\n",
    "    print(\"All OK\")"
   ]
  },
  {
   "cell_type": "code",
   "execution_count": 16,
   "metadata": {},
   "outputs": [
    {
     "name": "stdout",
     "output_type": "stream",
     "text": [
      "True\n",
      "True\n"
     ]
    }
   ],
   "source": [
    "print(isinstance(df_vqe, pd.DataFrame))\n",
    "print(isinstance(df_flip, pd.DataFrame))"
   ]
  },
  {
   "cell_type": "code",
   "execution_count": 17,
   "metadata": {},
   "outputs": [
    {
     "name": "stdout",
     "output_type": "stream",
     "text": [
      "3000\n"
     ]
    }
   ],
   "source": [
    "# Assuming df_vqe and df_flip are both pandas DataFrame objects\n",
    "df_with_flip = pd.concat([df_vqe, df_flip], ignore_index=True)\n",
    "\n",
    "# Now, get the length of the resulting DataFrame\n",
    "length_of_df_with_flip = len(df_with_flip)\n",
    "\n",
    "print(length_of_df_with_flip)"
   ]
  },
  {
   "cell_type": "markdown",
   "metadata": {},
   "source": [
    "#### Angles"
   ]
  },
  {
   "cell_type": "code",
   "execution_count": 18,
   "metadata": {},
   "outputs": [],
   "source": [
    "df_rotated = df_with_flip.copy()\n",
    "df_rotated.index = np.arange(len(df_rotated))\n"
   ]
  },
  {
   "cell_type": "code",
   "execution_count": 19,
   "metadata": {},
   "outputs": [],
   "source": [
    "### change the params by adding random angles to params\n",
    "\n",
    "for i in range(len(df_rotated)):\n",
    "    angle = 2 * np.pi * np.random.rand()\n",
    "    for n in z_gate_indices:\n",
    "        df_rotated.iloc[i, 2**n_qubits + n] += angle"
   ]
  },
  {
   "cell_type": "code",
   "execution_count": 22,
   "metadata": {},
   "outputs": [],
   "source": [
    "import numpy as np\n",
    "from qiskit.quantum_info import Statevector\n",
    "\n",
    "for i in range(len(df_rotated)):\n",
    "    params_real = np.real(np.array(df_rotated.iloc[i, 2**n_qubits:(2**n_qubits + TN.n_params)]))\n",
    "    circ = TN.construct_circuit(params_real)\n",
    "    state_built = utils.get_state(circ)\n",
    "    \n",
    "    # Ensure state_built is a numpy array for matrix operations\n",
    "    if isinstance(state_built, Statevector):\n",
    "        state_built = state_built.data  # Convert Statevector to numpy array\n",
    "\n",
    "    h = df_rotated.iloc[i, n_max].real\n",
    "    # Assuming H_0 and H_1 are numpy arrays; adjust Hamiltonian calculation as needed\n",
    "    H = H_0 + h * H_1\n",
    "    \n",
    "    # Ensure the Hamiltonian (H) and state_built are compatible for matrix multiplication\n",
    "    E_built = np.real((state_built.conj().T @ H @ state_built).item())\n",
    "\n",
    "    E = df_rotated.iloc[i, n_max + 1].real\n",
    "    if not (np.isclose(E, E_built)):\n",
    "        print('Energy discrepancy detected at index {}'.format(i))\n",
    "\n",
    "    # Update DataFrame with the new state\n",
    "    df_rotated.iloc[i, :2**n_qubits] = state_built.flatten()\n"
   ]
  },
  {
   "cell_type": "code",
   "execution_count": 15,
   "metadata": {},
   "outputs": [],
   "source": [
    "# i = 150\n",
    "# params = np.array(df_rotated.iloc[i, 2**n_qubits:(2**n_qubits + TN.n_params)])\n",
    "# circ = TN.construct_circuit(params)\n",
    "# state_built = utils.get_state(circ)\n",
    "# E = df_rotated.iloc[i, n_max + 1]\n",
    "# print(E)\n",
    "# h = df_rotated.iloc[i, n_max]\n",
    "# E_built = (state_built.conj() @ (H_0 + h * H_1) @ state_built).real\n",
    "# print(E_built)\n",
    "# state = np.array(df_rotated.iloc[i, :2**n_qubits])"
   ]
  },
  {
   "cell_type": "code",
   "execution_count": 24,
   "metadata": {},
   "outputs": [],
   "source": [
    "df_total = pd.concat([df_with_flip, df_rotated], ignore_index=True)\n",
    "df_total.index = np.arange(len(df_total))"
   ]
  },
  {
   "cell_type": "code",
   "execution_count": 25,
   "metadata": {},
   "outputs": [],
   "source": [
    "#### Save the total database just in case\n",
    "df_total.to_csv(path_or_buf=\"df_total_bigger.csv\", index=False, header=None)"
   ]
  },
  {
   "cell_type": "code",
   "execution_count": 26,
   "metadata": {},
   "outputs": [
    {
     "data": {
      "text/plain": [
       "6000"
      ]
     },
     "execution_count": 26,
     "metadata": {},
     "output_type": "execute_result"
    }
   ],
   "source": [
    "df = df_total.copy()\n",
    "len(df_total)"
   ]
  },
  {
   "cell_type": "markdown",
   "metadata": {},
   "source": [
    "### Reload the prepared dataset if you don't want to build it"
   ]
  },
  {
   "cell_type": "code",
   "execution_count": 28,
   "metadata": {},
   "outputs": [
    {
     "name": "stdout",
     "output_type": "stream",
     "text": [
      "6000\n"
     ]
    }
   ],
   "source": [
    "### Load if necessary\n",
    "\n",
    "df_total = pd.read_csv(\"df_total_bigger.csv\", header=None)\n",
    "print(len(df_total))\n",
    "\n",
    "# Use the built-in complex type for conversion\n",
    "df_total = df_total.applymap(lambda x: complex(x))\n",
    "\n",
    "# Ensure real parts are used where necessary\n",
    "df_total[n_max] = df_total[n_max].apply(lambda x: x.real)\n",
    "df_total[n_max+1] = df_total[n_max+1].apply(lambda x: x.real)\n"
   ]
  },
  {
   "cell_type": "markdown",
   "metadata": {},
   "source": [
    "### Split the data into train and test"
   ]
  },
  {
   "cell_type": "code",
   "execution_count": 29,
   "metadata": {},
   "outputs": [],
   "source": [
    "df_shuffled = df_total.sample(frac=1).reset_index(drop=True)\n",
    "train_pos = int(0.8 * len(df_total))\n",
    "df_train = df_shuffled.iloc[:train_pos,:]\n",
    "df_test = df_shuffled.iloc[train_pos:,:]"
   ]
  },
  {
   "cell_type": "markdown",
   "metadata": {},
   "source": [
    "### Constructing objective functions"
   ]
  },
  {
   "cell_type": "code",
   "execution_count": 30,
   "metadata": {},
   "outputs": [],
   "source": [
    "def count_ones(x):\n",
    "    count = 0\n",
    "    x_c = copy(x)\n",
    "    while x_c != 0:\n",
    "        x_c = x_c & (x_c-1)\n",
    "        count += 1\n",
    "    return count\n",
    "\n",
    "\n",
    "# @jit\n",
    "def unitary_prediction(state, U):\n",
    "    \"\"\"Returns the probability that the state is in class II by\n",
    "    transforming the circuit into a unitary map\"\"\"\n",
    "#     if U_supply is None:\n",
    "#         result = execute(NN_circ, unitary_b).result()\n",
    "#         U = result.get_unitary(NN_circ)\n",
    "#     else:\n",
    "#         U = U_supply\n",
    "    res_state = U @ state\n",
    "    \n",
    "    label = [0, 0]\n",
    "    \n",
    "    for i in range(len(res_state)):\n",
    "        qty_ones = count_ones(i)\n",
    "        if qty_ones > n_qubits // 2:\n",
    "            label[1] += abs(res_state[i])**2\n",
    "        elif qty_ones < n_qubits // 2:\n",
    "            label[0] += abs(res_state[i])**2 / 2 \n",
    "\n",
    "    return label[1] / (label[0] + label[1])\n",
    "\n",
    "def build_loss_fun(df, start, batch_size, TN_classifier):\n",
    "    \"\"\"construct the loss function for a batch\"\"\"\n",
    "#     if (finish <= start):\n",
    "#         raise ValueError(\"Specify other rows\")\n",
    "    if batch_size < 1:\n",
    "        raise ValueError(\"Invalid batch size\")\n",
    "    #indices = np.random.choice(len(df), batch_size, replace=False)\n",
    "    #indices = np.arange(start, start + batch_size)\n",
    "    \n",
    "\n",
    "    def f(x):\n",
    "        circ = TN_classifier.construct_circuit(x)\n",
    "        result = execute(circ, unitary_b).result()\n",
    "        U = result.get_unitary(circ)\n",
    "        logloss = 0\n",
    "        for i in range(start, start+batch_size):\n",
    "            state = np.array(df_train.iloc[i][:n_cdata])\n",
    "            y = df_train.iloc[i][n_max+2].real\n",
    "            p = unitary_prediction(state, U)\n",
    "            logloss += -(y * np.log(p) + (1 - y) * np.log(1 - p))\n",
    "            \n",
    "        return logloss / batch_size\n",
    "    return f\n",
    "\n",
    "# @jit\n",
    "def rand_grad(x, f, eps):\n",
    "    dx = np.random.randn(np.shape(x)[0]) * eps\n",
    "    f_plus = f(x + dx)\n",
    "    f_minus = f(x - dx)\n",
    "    return (f_plus - f_minus) / 2 / dx, 0.5 * (f_plus + f_minus)"
   ]
  },
  {
   "cell_type": "code",
   "execution_count": 31,
   "metadata": {},
   "outputs": [
    {
     "data": {
      "text/plain": [
       "4"
      ]
     },
     "execution_count": 31,
     "metadata": {},
     "output_type": "execute_result"
    }
   ],
   "source": [
    "count_ones(71)"
   ]
  },
  {
   "cell_type": "markdown",
   "metadata": {},
   "source": [
    "### Running the machine learning"
   ]
  },
  {
   "cell_type": "code",
   "execution_count": 32,
   "metadata": {},
   "outputs": [
    {
     "data": {
      "text/plain": [
       "4800"
      ]
     },
     "execution_count": 32,
     "metadata": {},
     "output_type": "execute_result"
    }
   ],
   "source": [
    "len(df_train)"
   ]
  },
  {
   "cell_type": "code",
   "execution_count": 35,
   "metadata": {},
   "outputs": [],
   "source": [
    "### Test ###\n",
    "def unitary_prediction(state, U):\n",
    "    # Perform matrix multiplication\n",
    "    res_state = U @ state\n",
    "    \n",
    "    # Convert Qiskit's Statevector or Operator to a numpy array if not already\n",
    "    if hasattr(res_state, 'data'):\n",
    "        res_state = res_state.data\n",
    "    elif not isinstance(res_state, np.ndarray):\n",
    "        res_state = np.array(res_state)\n",
    "\n",
    "    label = [0, 0]\n",
    "    n_qubits = int(np.log2(len(res_state)))  # Calculate the number of qubits based on state vector length\n",
    "\n",
    "    for i in range(len(res_state)):\n",
    "        qty_ones = bin(i).count('1')  # Count the number of '1's in the binary representation of i\n",
    "        if qty_ones > n_qubits // 2:\n",
    "            label[1] += np.abs(res_state[i])**2  # Add the probability (amplitude squared) to '1' label\n",
    "        else:\n",
    "            label[0] += np.abs(res_state[i])**2  # Add the probability (amplitude squared) to '0' label\n",
    "\n",
    "    # Assuming the prediction 'p' should be based on the probability of '1'\n",
    "    p = label[1]  # Probability of measuring a state with more than half of the qubits in '1'\n",
    "    return p\n"
   ]
  },
  {
   "cell_type": "code",
   "execution_count": 36,
   "metadata": {},
   "outputs": [
    {
     "name": "stdout",
     "output_type": "stream",
     "text": [
      "Epoch 0 batch 0\n",
      "loss: 0.8078886550570679\n",
      "Epoch 0 batch 1\n",
      "loss: 0.7561173059911166\n",
      "Epoch 0 batch 2\n",
      "loss: 0.6241008308216003\n",
      "Epoch 1 batch 0\n",
      "loss: 0.7473427934289096\n",
      "Epoch 1 batch 1\n",
      "loss: 0.7147780002304969\n",
      "Epoch 1 batch 2\n",
      "loss: 0.7683073219165514\n",
      "Epoch 2 batch 0\n",
      "loss: 0.7455868427345147\n",
      "Epoch 2 batch 1\n",
      "loss: 0.7643764904042101\n",
      "Epoch 2 batch 2\n",
      "loss: 0.8034891639389007\n",
      "Epoch 3 batch 0\n",
      "loss: 0.7661183743568152\n",
      "Epoch 3 batch 1\n",
      "loss: 0.7601268653649579\n",
      "Epoch 3 batch 2\n",
      "loss: 0.7531019302648417\n",
      "Epoch 4 batch 0\n",
      "loss: 0.756805457676119\n",
      "Epoch 4 batch 1\n",
      "loss: 0.782520384071576\n",
      "Epoch 4 batch 2\n",
      "loss: 0.7617177587270825\n",
      "Epoch 5 batch 0\n",
      "loss: 0.7353663229401365\n",
      "Epoch 5 batch 1\n",
      "loss: 1.0217754860931616\n",
      "Epoch 5 batch 2\n",
      "loss: 0.7617903773334422\n",
      "Epoch 6 batch 0\n",
      "loss: 0.7412182201041997\n",
      "Epoch 6 batch 1\n",
      "loss: 0.7219500655979613\n",
      "Epoch 6 batch 2\n",
      "loss: 0.9894156323294419\n",
      "Epoch 7 batch 0\n",
      "loss: 0.8716118898186002\n",
      "Epoch 7 batch 1\n",
      "loss: 0.7434905284099731\n",
      "Epoch 7 batch 2\n",
      "loss: 0.7183341592255028\n",
      "Epoch 8 batch 0\n",
      "loss: 0.7620183624026908\n",
      "Epoch 8 batch 1\n",
      "loss: 0.7185682335196618\n",
      "Epoch 8 batch 2\n",
      "loss: 0.8894923199940412\n",
      "Epoch 9 batch 0\n",
      "loss: 0.5775009921179659\n",
      "Epoch 9 batch 1\n",
      "loss: 0.7713007485219084\n",
      "Epoch 9 batch 2\n",
      "loss: 0.8839020499582033\n",
      "Epoch 10 batch 0\n",
      "loss: 0.7353995841269987\n",
      "Epoch 10 batch 1\n",
      "loss: 0.7533535609271493\n",
      "Epoch 10 batch 2\n",
      "loss: 0.7554445189922803\n",
      "Epoch 11 batch 0\n",
      "loss: 0.9058085414755962\n",
      "Epoch 11 batch 1\n",
      "loss: 0.9778671316233645\n",
      "Epoch 11 batch 2\n",
      "loss: 0.8730743778141945\n",
      "Epoch 12 batch 0\n",
      "loss: 0.7678128611364432\n",
      "Epoch 12 batch 1\n",
      "loss: 1.0003970719707498\n",
      "Epoch 12 batch 2\n",
      "loss: 0.757241457901163\n",
      "Epoch 13 batch 0\n",
      "loss: 0.7048662849395642\n",
      "Epoch 13 batch 1\n",
      "loss: 1.0072667670782982\n",
      "Epoch 13 batch 2\n",
      "loss: 0.7435020016449398\n",
      "Epoch 14 batch 0\n",
      "loss: 0.6123558672280132\n",
      "Epoch 14 batch 1\n",
      "loss: 0.6688808267053381\n",
      "Epoch 14 batch 2\n",
      "loss: 0.8816293607774079\n",
      "Epoch 20 batch 0\n",
      "loss: 0.7090592559476718\n",
      "Epoch 20 batch 1\n",
      "loss: 0.7587931445175373\n",
      "Epoch 20 batch 2\n",
      "loss: 0.8358695536443645\n",
      "Epoch 40 batch 0\n",
      "loss: 0.7625092132244523\n",
      "Epoch 40 batch 1\n",
      "loss: 0.5779221865778672\n",
      "Epoch 40 batch 2\n",
      "loss: 0.6193006874317282\n",
      "Epoch 60 batch 0\n",
      "loss: 0.9788878972627357\n",
      "Epoch 60 batch 1\n",
      "loss: 0.798476737829936\n",
      "Epoch 60 batch 2\n",
      "loss: 0.8773988700124646\n",
      "Epoch 80 batch 0\n",
      "loss: 0.7725842076862941\n",
      "Epoch 80 batch 1\n",
      "loss: 0.8128550538409759\n",
      "Epoch 80 batch 2\n",
      "loss: 0.7458209327883915\n",
      "Epoch 100 batch 0\n",
      "loss: 0.7338538139497706\n",
      "Epoch 100 batch 1\n",
      "loss: 0.7502807746986937\n",
      "Epoch 100 batch 2\n",
      "loss: 0.740025525794072\n",
      "Epoch 120 batch 0\n",
      "loss: 0.769761750744461\n",
      "Epoch 120 batch 1\n",
      "loss: 0.7805465600234672\n",
      "Epoch 120 batch 2\n",
      "loss: 0.7702107590252348\n",
      "Epoch 140 batch 0\n",
      "loss: 0.7822646689588098\n",
      "Epoch 140 batch 1\n",
      "loss: 0.590252936977854\n",
      "Epoch 140 batch 2\n",
      "loss: 0.761024894440854\n",
      "Epoch 160 batch 0\n",
      "loss: 0.7622644628842348\n",
      "Epoch 160 batch 1\n",
      "loss: 0.8586524699070444\n",
      "Epoch 160 batch 2\n",
      "loss: 0.7745607239323067\n",
      "Epoch 180 batch 0\n",
      "loss: 0.8165156163324343\n",
      "Epoch 180 batch 1\n",
      "loss: 0.6879811892555034\n",
      "Epoch 180 batch 2\n",
      "loss: 0.858960399149119\n",
      "Epoch 200 batch 0\n",
      "loss: 0.7779593003735383\n",
      "Epoch 200 batch 1\n",
      "loss: 0.7754430612946612\n",
      "Epoch 200 batch 2\n",
      "loss: 0.8098144062594992\n",
      "Epoch 220 batch 0\n",
      "loss: 0.7313907540008815\n",
      "Epoch 220 batch 1\n",
      "loss: 0.7505747592709506\n",
      "Epoch 220 batch 2\n",
      "loss: 0.7397753518666266\n",
      "Epoch 240 batch 0\n",
      "loss: 0.7704090813525936\n",
      "Epoch 240 batch 1\n",
      "loss: 0.7167795276126396\n",
      "Epoch 240 batch 2\n",
      "loss: 0.7526069591527043\n",
      "Epoch 260 batch 0\n",
      "loss: 0.8170177510889332\n",
      "Epoch 260 batch 1\n",
      "loss: 0.6580324184185236\n",
      "Epoch 260 batch 2\n",
      "loss: 0.709217972905936\n",
      "Epoch 280 batch 0\n",
      "loss: 0.7986718893126836\n",
      "Epoch 280 batch 1\n",
      "loss: 0.7547778797195726\n",
      "Epoch 280 batch 2\n",
      "loss: 0.7861884968751536\n",
      "CPU times: total: 1h 24min 29s\n",
      "Wall time: 1h 12min 33s\n"
     ]
    }
   ],
   "source": [
    "%%time\n",
    "batch_size = 1600\n",
    "n_epochs = 300\n",
    "\n",
    "losses = []\n",
    "\n",
    "# Assuming TN_classifier and build_loss_fun are defined\n",
    "# Ensure TN_classifier.n_params is correctly defined\n",
    "params = np.random.rand(TN_classifier.n_params) - 0.5\n",
    "x = params\n",
    "\n",
    "lr_base = 5\n",
    "decay = 1e-3\n",
    "factor = 1 - decay\n",
    "eps_base = 5e-2\n",
    "\n",
    "v = np.zeros(TN_classifier.n_params)  # Initialize momentum vector\n",
    "\n",
    "for epoch in range(n_epochs):\n",
    "    df_train = df_train.sample(frac=1).reset_index(drop=True)  # Shuffle the training set\n",
    "    for batch_num in range(len(df_train) // batch_size):\n",
    "        start = batch_size * batch_num\n",
    "        f = build_loss_fun(df_train, start, batch_size, TN_classifier)  # Loss function for the current batch\n",
    "        \n",
    "        eps = eps_base / (1 + batch_num * (epoch + 1))**0.5\n",
    "        lr = lr_base / (1 + batch_num * (epoch + 1))**0.5\n",
    "        \n",
    "        # Calculate gradient approximation\n",
    "        dx = np.random.randn(np.shape(x)[0]) * eps  # Perturbation for finite difference\n",
    "        f_plus = f(x + dx)\n",
    "        f_minus = f(x - dx)\n",
    "        \n",
    "        # Corrected gradient calculation\n",
    "        grad = (f_plus - f_minus) / (2 * eps)\n",
    "        \n",
    "        # Update momentum and parameters\n",
    "        v = 0.9 * v - lr * grad\n",
    "        x = x + v\n",
    "        \n",
    "        # Compute average loss for logging\n",
    "        loss = (f_plus + f_minus) / 2\n",
    "        if epoch % 20 == 0 or epoch < 15:\n",
    "            print(f'Epoch {epoch} batch {batch_num}')\n",
    "            print('loss:', loss)\n",
    "        losses.append(loss)"
   ]
  },
  {
   "cell_type": "raw",
   "metadata": {},
   "source": [
    "#### OpenCL-based data, also somewhat incomplete\n",
    "\n",
    "\n",
    "[-3.70142634e-01,  2.26943934e-01,  5.04180435e-01,  4.95598602e-02,\n",
    "        2.54485094e-01,  7.16179015e-01,  5.16020974e-01, -1.07052339e+00,\n",
    "       -3.49705423e-01, -1.35811133e-01,  1.55054164e-01,  8.88456696e-01,\n",
    "       -1.47539206e+00,  6.74051175e-01, -1.94170553e-01, -7.58538658e-01,\n",
    "        3.13823769e-01,  4.01892236e-01,  2.19250404e-01, -3.07341662e-01,\n",
    "        9.37026733e-01,  1.63367476e-01, -7.46855776e-01, -1.42431389e-01,\n",
    "        4.00884442e-01, -5.89674951e-01,  1.74509797e-01,  3.04261321e-02,\n",
    "       -1.16486397e+00, -9.76785406e-02,  6.71143980e-02, -6.00228343e-01,\n",
    "       -1.18547527e-01,  6.40402271e-01, -2.02564877e-01, -1.10202152e-01,\n",
    "       -5.42475336e-01, -1.45975122e-01, -1.47740983e+00, -3.76318336e-01,\n",
    "        3.89242908e-01, -8.28036092e-01, -1.10181957e+00,  5.42499517e-01,\n",
    "       -7.41573078e-01,  4.32787047e-02,  2.08136061e-01, -4.63065263e-01,\n",
    "        2.89115184e-01,  6.92774468e-01,  9.96200416e-01,  2.26657546e-01,\n",
    "        1.30211513e-03, -3.27328564e-01, -1.89984361e-02,  2.02271568e-02,\n",
    "        7.54979772e-01,  7.87378157e-01, -8.41919404e-01,  3.74166374e-01,\n",
    "       -2.39104441e-01, -1.23387274e+00,  4.22627531e-01,  3.36164387e-01,\n",
    "       -9.60087934e-01, -1.95125883e-01, -8.86167600e-01, -1.59953824e-01,\n",
    "       -1.26432284e-01,  4.26719598e-01,  1.12165573e-03, -1.08316359e-01,\n",
    "        1.13681516e-01, -2.93951861e-01,  1.07838433e-01, -1.05121319e+00,\n",
    "        3.28423297e-01,  3.34703013e-02, -4.87255605e-01, -4.83038024e-01,\n",
    "        5.09947096e-01, -6.57579191e-01,  3.83354439e-01, -2.09992328e-01,\n",
    "       -5.41397405e-01,  2.66241766e-01,  1.93273688e-01,  2.14842700e-01,\n",
    "       -5.28314968e-01, -7.53810925e-01,  4.75566014e-01, -5.58141120e-01,\n",
    "        2.03855434e-01,  4.62399783e-01,  3.93293780e-01, -5.66325162e-01,\n",
    "        2.04030241e-01, -3.72401281e-01, -1.26996344e-01, -7.36711759e-01,\n",
    "        5.37159823e-01,  4.30266899e-01,  5.77298729e-01, -5.95653431e-01,\n",
    "        2.77082002e-02,  8.31271303e-01,  6.88991302e-01,  3.69518094e-01,\n",
    "       -2.74009600e-01, -5.60060291e-01,  7.14966840e-01, -1.28343433e-01,\n",
    "        1.17436541e+00,  6.72342329e-02,  3.63164602e-01,  2.04430642e-01,\n",
    "        2.11846709e-01,  3.95187293e-01,  6.14718539e-01, -5.51568165e-01,\n",
    "        1.12045721e+00,  3.56212082e-01, -4.82825767e-01, -9.59795887e-01,\n",
    "        5.98846858e-01, -2.48936525e-01,  3.72761368e-01,  5.36687781e-03,\n",
    "        1.25524397e+00,  5.70503337e-01,  4.48818108e-01,  6.66646647e-01,\n",
    "       -1.86730000e-01, -8.78684911e-02, -5.34504569e-02, -4.23799335e-01,\n",
    "       -4.11177535e-01,  5.51297587e-01,  8.17591561e-01,  7.14535150e-01,\n",
    "        4.76771140e-01,  1.02714131e+00,  4.49742216e-01, -5.77089306e-01,\n",
    "        3.09484986e-02, -3.64630223e-01,  2.63351055e-01,  5.25697314e-01,\n",
    "        1.08533515e-02, -7.71090130e-01]"
   ]
  },
  {
   "cell_type": "raw",
   "metadata": {},
   "source": [
    "#### Symmetry and 6 layers\n",
    "\n",
    "[-1.02335802e+00,  2.31935568e-01,  2.17377158e-01, -6.81614619e-02,\n",
    "        4.49976668e-01, -1.25318105e+00, -1.57964488e-03, -2.27268290e-01,\n",
    "        1.32409502e+00,  2.14893641e-01, -5.22625057e-01, -9.11044073e-01,\n",
    "       -5.48203198e-01,  1.25764768e+00,  1.00296749e-01,  3.89367060e-01,\n",
    "        7.40472455e-01,  1.12086803e+00, -1.84506560e+00, -7.33417250e-02,\n",
    "        1.14967871e+00,  3.79769082e-01, -9.36844213e-01,  1.40353063e+00,\n",
    "       -2.19027977e-01, -6.96792624e-01,  6.93078162e-01,  9.71494906e-01,\n",
    "        1.19778934e+00,  3.09460149e-01,  4.93264160e-01,  6.25002429e-02,\n",
    "       -4.37182014e-01, -2.32435502e-01,  1.63023837e+00,  4.28949364e-01,\n",
    "        8.12777173e-01, -5.31482587e-01,  1.04330143e-01, -1.25729577e-02,\n",
    "       -7.14033363e-02, -1.37354019e-01, -2.05588494e-02, -3.79656557e-01,\n",
    "        7.73474217e-01,  1.19031591e+00,  7.70088541e-01, -4.10207502e-02,\n",
    "       -1.36172783e+00,  5.57214624e-01, -4.39333748e-01, -1.10700613e+00,\n",
    "       -1.33029019e+00,  4.65223482e-01, -1.01198649e+00,  1.45909694e-02,\n",
    "        3.15443049e-01,  1.63117584e-01, -3.15171773e-02,  4.89690524e-01,\n",
    "       -1.73558305e+00, -7.74783388e-01, -2.63520690e-02, -4.54009561e-01,\n",
    "       -9.76754999e-01, -1.27976648e+00,  9.20149649e-01,  8.60648979e-01,\n",
    "       -4.35370428e-01,  1.55543672e-01,  1.34208007e+00, -2.09292972e-01,\n",
    "        1.18392073e-01,  3.95509335e-01,  3.61183608e-01,  5.97618039e-01,\n",
    "        2.86537880e-02, -1.98185212e-02,  1.21660435e+00, -7.47554113e-01,\n",
    "       -6.26976819e-01, -6.41667560e-01, -5.96422632e-01,  6.26299895e-01,\n",
    "       -4.41809815e-01, -5.11445778e-02,  5.62485341e-01, -1.44338678e-01,\n",
    "       -1.36767500e-01, -2.29000824e-01, -7.89304240e-01, -1.19940778e+00,\n",
    "       -5.82305024e-02,  2.52405506e-01,  1.13629954e-01, -6.10055374e-01,\n",
    "       -2.28418342e-02,  7.55102072e-01, -8.35228199e-01,  3.87976591e-01,\n",
    "        1.24700929e-01, -7.81910001e-02,  1.29876376e+00, -3.20282284e-01,\n",
    "        2.96956522e-01,  1.06814585e+00, -1.09121499e+00, -1.63690087e+00,\n",
    "       -1.19381605e+00,  1.91203921e+00, -3.80589902e-01,  1.42906317e+00,\n",
    "        5.07096986e-02, -7.55216186e-02, -8.90204040e-01, -5.81672946e-01,\n",
    "       -6.32359503e-01,  1.16466396e+00,  4.24127799e-01,  2.25584872e-02,\n",
    "       -6.09641241e-01,  6.36438887e-01,  8.55999266e-02, -4.01963350e-01,\n",
    "       -9.11083997e-01, -9.12579329e-01, -8.32870462e-01,  2.69213718e-01,\n",
    "        4.18729734e-01,  1.09870101e-01, -6.18246778e-02, -8.34339282e-01,\n",
    "       -1.10284888e+00,  6.62339190e-02, -9.21501073e-01,  3.32683230e-01,\n",
    "        2.14645379e-01,  2.97981584e-01, -1.17363417e+00,  7.59263883e-02,\n",
    "       -2.26173526e-01,  3.09249814e-01, -3.86584187e-01, -1.73685261e+00,\n",
    "       -9.19339652e-01, -9.31940038e-01, -8.34326261e-01, -1.21979081e+00,\n",
    "        8.39923204e-02, -3.22979066e-01]"
   ]
  },
  {
   "cell_type": "raw",
   "metadata": {},
   "source": [
    "#### utilized symmetry\n",
    "\n",
    "x = [ 2.80611036,  1.48628261,  2.76249388,  2.86555346, -0.05675448,\n",
    "        3.50637605,  3.59144114,  1.21287822,  3.20680993,  0.33326643,\n",
    "        1.71497328,  2.94955067,  0.89657318,  7.79669661,  3.97808069,\n",
    "        4.42322971,  0.88690111,  3.6976522 ,  6.49030434,  3.14313772,\n",
    "        2.46557131,  3.24940156,  0.55981771,  0.6470831 ,  2.24722696,\n",
    "        5.0552363 ,  3.59400541,  1.35148281, -1.07360022,  3.07076878,\n",
    "        0.96921225,  6.28106223,  5.65671785,  5.60105907,  1.8460286 ,\n",
    "        3.95629621,  3.54327926, -1.09720043,  5.42829729,  0.56842825,\n",
    "        0.98953868,  7.34724389,  1.71098814,  3.27818562,  6.08196091,\n",
    "        1.14905031,  3.85420401,  5.2705856 ,  1.68349218,  4.14525286,\n",
    "        3.50103728,  5.03603712,  5.17451217,  1.8190294 ,  3.35897068,\n",
    "        4.45736183,  0.50687702,  0.61910043,  5.06912617,  1.83995488,\n",
    "        6.52597821,  5.87269635,  0.91340237,  2.25554717,  4.86080917,\n",
    "        2.940126  ,  6.74951365,  3.3248337 ,  5.39535693,  2.21239941,\n",
    "        5.64748113,  5.0477891 ,  6.1775796 ,  4.97131611,  3.48834929,\n",
    "        3.99699156,  4.81774313,  4.89021088,  4.38305356,  3.1147566 ,\n",
    "        3.58444252,  4.70821362,  0.60345608,  4.87934463,  2.34431391,\n",
    "        5.18450549,  4.79884723,  5.73534887,  1.63089387,  2.81822472,\n",
    "        3.80729966,  4.78021636,  3.88062153,  2.15653694,  1.47695993,\n",
    "        5.31309969,  2.73082999,  1.23004119,  3.27815057,  0.80806556]"
   ]
  },
  {
   "cell_type": "code",
   "execution_count": 43,
   "metadata": {},
   "outputs": [],
   "source": [
    "x = [-1.02335802e+00,  2.31935568e-01,  2.17377158e-01, -6.81614619e-02,\n",
    "        4.49976668e-01, -1.25318105e+00, -1.57964488e-03, -2.27268290e-01,\n",
    "        1.32409502e+00,  2.14893641e-01, -5.22625057e-01, -9.11044073e-01,\n",
    "       -5.48203198e-01,  1.25764768e+00,  1.00296749e-01,  3.89367060e-01,\n",
    "        7.40472455e-01,  1.12086803e+00, -1.84506560e+00, -7.33417250e-02,\n",
    "        1.14967871e+00,  3.79769082e-01, -9.36844213e-01,  1.40353063e+00,\n",
    "       -2.19027977e-01, -6.96792624e-01,  6.93078162e-01,  9.71494906e-01,\n",
    "        1.19778934e+00,  3.09460149e-01,  4.93264160e-01,  6.25002429e-02,\n",
    "       -4.37182014e-01, -2.32435502e-01,  1.63023837e+00,  4.28949364e-01,\n",
    "        8.12777173e-01, -5.31482587e-01,  1.04330143e-01, -1.25729577e-02,\n",
    "       -7.14033363e-02, -1.37354019e-01, -2.05588494e-02, -3.79656557e-01,\n",
    "        7.73474217e-01,  1.19031591e+00,  7.70088541e-01, -4.10207502e-02,\n",
    "       -1.36172783e+00,  5.57214624e-01, -4.39333748e-01, -1.10700613e+00,\n",
    "       -1.33029019e+00,  4.65223482e-01, -1.01198649e+00,  1.45909694e-02,\n",
    "        3.15443049e-01,  1.63117584e-01, -3.15171773e-02,  4.89690524e-01,\n",
    "       -1.73558305e+00, -7.74783388e-01, -2.63520690e-02, -4.54009561e-01,\n",
    "       -9.76754999e-01, -1.27976648e+00,  9.20149649e-01,  8.60648979e-01,\n",
    "       -4.35370428e-01,  1.55543672e-01,  1.34208007e+00, -2.09292972e-01,\n",
    "        1.18392073e-01,  3.95509335e-01,  3.61183608e-01,  5.97618039e-01,\n",
    "        2.86537880e-02, -1.98185212e-02,  1.21660435e+00, -7.47554113e-01,\n",
    "       -6.26976819e-01, -6.41667560e-01, -5.96422632e-01,  6.26299895e-01,\n",
    "       -4.41809815e-01, -5.11445778e-02,  5.62485341e-01, -1.44338678e-01,\n",
    "       -1.36767500e-01, -2.29000824e-01, -7.89304240e-01, -1.19940778e+00,\n",
    "       -5.82305024e-02,  2.52405506e-01,  1.13629954e-01, -6.10055374e-01,\n",
    "       -2.28418342e-02,  7.55102072e-01, -8.35228199e-01,  3.87976591e-01,\n",
    "        1.24700929e-01, -7.81910001e-02,  1.29876376e+00, -3.20282284e-01,\n",
    "        2.96956522e-01,  1.06814585e+00, -1.09121499e+00, -1.63690087e+00,\n",
    "       -1.19381605e+00,  1.91203921e+00, -3.80589902e-01,  1.42906317e+00,\n",
    "        5.07096986e-02, -7.55216186e-02, -8.90204040e-01, -5.81672946e-01,\n",
    "       -6.32359503e-01,  1.16466396e+00,  4.24127799e-01,  2.25584872e-02,\n",
    "       -6.09641241e-01,  6.36438887e-01,  8.55999266e-02, -4.01963350e-01,\n",
    "       -9.11083997e-01, -9.12579329e-01, -8.32870462e-01,  2.69213718e-01,\n",
    "        4.18729734e-01,  1.09870101e-01, -6.18246778e-02, -8.34339282e-01,\n",
    "       -1.10284888e+00,  6.62339190e-02, -9.21501073e-01,  3.32683230e-01,\n",
    "        2.14645379e-01,  2.97981584e-01, -1.17363417e+00,  7.59263883e-02,\n",
    "       -2.26173526e-01,  3.09249814e-01, -3.86584187e-01, -1.73685261e+00,\n",
    "       -9.19339652e-01, -9.31940038e-01, -8.34326261e-01, -1.21979081e+00,\n",
    "        8.39923204e-02, -3.22979066e-01]"
   ]
  },
  {
   "cell_type": "markdown",
   "metadata": {},
   "source": [
    "### Checking the performance on the test set"
   ]
  },
  {
   "cell_type": "code",
   "execution_count": 44,
   "metadata": {},
   "outputs": [],
   "source": [
    "%matplotlib inline\n",
    "import numpy as np\n",
    "from qiskit import Aer, execute\n",
    "from qiskit.visualization import plot_histogram\n",
    "import matplotlib.pyplot as plt\n",
    "\n",
    "# Ensure TN_classifier and unitary_prediction are defined\n",
    "# x should be the parameters for TN_classifier\n",
    "\n",
    "# Choose the unitary simulator backend\n",
    "unitary_b = Aer.get_backend('unitary_simulator')\n",
    "\n",
    "# Construct the circuit for the given parameters x\n",
    "NN_circ = TN_classifier.construct_circuit(x)\n",
    "\n",
    "# Execute the circuit using the unitary simulator\n",
    "result = execute(NN_circ, unitary_b).result()\n",
    "\n",
    "# Get the unitary matrix from the simulation result\n",
    "U = result.get_unitary(NN_circ)\n",
    "\n",
    "preds = []\n",
    "trues = np.array(df_test[n_max + 2])\n",
    "\n",
    "# Make predictions for each state in the test dataset\n",
    "for i in range(len(df_test)):\n",
    "    state = np.array(df_test.iloc[i][:n_cdata], dtype=np.complex128)  # Convert state to numpy array\n",
    "    preds.append(unitary_prediction(state, U))\n",
    "\n",
    "# Visualization (commented out for brevity)\n",
    "# plt.rcParams.update({'font.size': 14})\n",
    "# plt.figure()\n",
    "# fields = np.array(df_test[n_max])\n",
    "# plt.scatter(fields, preds)\n",
    "# plt.xlabel(r'$J_z$')\n",
    "# plt.ylabel('Prediction of label II')\n",
    "# plt.grid()\n",
    "# plt.ylim([0, 1])\n",
    "# plt.xlim([0, 2])\n",
    "# plt.plot([1, 1], [0, 1], 'r')\n",
    "# plt.text(0.35, 0.63, 'I', fontsize=24, fontfamily='serif')\n",
    "# plt.text(1.6, 0.63, 'II', fontsize=24, fontfamily='serif')\n",
    "# plt.plot([0, 2], [0.5, 0\n"
   ]
  },
  {
   "cell_type": "code",
   "execution_count": 45,
   "metadata": {},
   "outputs": [
    {
     "data": {
      "image/png": "[encoded data removed]",
      "text/plain": [
       "<Figure size 900x600 with 1 Axes>"
      ]
     },
     "metadata": {},
     "output_type": "display_data"
    }
   ],
   "source": [
    "# %matplotlib inline\n",
    "# plt.rcParams.update({'font.size': 14})\n",
    "# plt.figure()\n",
    "fields = np.array(df_test[n_max])\n",
    "plt.scatter(fields, preds)\n",
    "\n",
    "plt.xlabel(r'$J_z$')\n",
    "plt.ylabel('Prediction of label II')\n",
    "plt.grid()\n",
    "plt.ylim([0, 1])\n",
    "plt.xlim([0, 2])\n",
    "plt.plot([1, 1], [0, 1], 'r')\n",
    "plt.text(0.35, 0.63, 'I', fontsize=24, fontfamily='serif')\n",
    "plt.text(1.6, 0.63, 'II', fontsize=24, fontfamily='serif')\n",
    "plt.plot([0, 2], [0.5, 0.5], 'r--')\n",
    "plt.show()"
   ]
  },
  {
   "cell_type": "code",
   "execution_count": 46,
   "metadata": {},
   "outputs": [
    {
     "name": "stdout",
     "output_type": "stream",
     "text": [
      "0.5033333333333333\n"
     ]
    }
   ],
   "source": [
    "correct = 0\n",
    "for i, p in enumerate(preds):\n",
    "    if abs(trues[i] - p) < 0.5:\n",
    "        correct += 1\n",
    "print(correct / len(df_test))"
   ]
  }
 ],
 "metadata": {
  "kernelspec": {
   "display_name": "Python 3",
   "language": "python",
   "name": "python3"
  },
  "language_info": {
   "codemirror_mode": {
    "name": "ipython",
    "version": 3
   },
   "file_extension": ".py",
   "mimetype": "text/x-python",
   "name": "python",
   "nbconvert_exporter": "python",
   "pygments_lexer": "ipython3",
   "version": "3.11.3"
  }
 },
 "nbformat": 4,
 "nbformat_minor": 2
}
