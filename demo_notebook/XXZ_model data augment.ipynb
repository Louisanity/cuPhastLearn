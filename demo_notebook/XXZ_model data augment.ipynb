{
 "cells": [
  {
   "cell_type": "markdown",
   "metadata": {},
   "source": [
    "## Classifying a phase transition in the XXZ model"
   ]
  },
  {
   "cell_type": "code",
   "execution_count": 1,
   "metadata": {
    "tags": []
   },
   "outputs": [
    {
     "name": "stderr",
     "output_type": "stream",
     "text": [
      "/tmp/ipykernel_10217/1398671730.py:7: DeprecationWarning: \n",
      "Pyarrow will become a required dependency of pandas in the next major release of pandas (pandas 3.0),\n",
      "(to allow more performant data types, such as the Arrow string type, and better interoperability with other libraries)\n",
      "but was not found to be installed on your system.\n",
      "If this would cause problems for you,\n",
      "please provide us feedback at https://github.com/pandas-dev/pandas/issues/54466\n",
      "        \n",
      "  import pandas as pd\n"
     ]
    }
   ],
   "source": [
    "import numpy as np\n",
    "\n",
    "import time\n",
    "import matplotlib.pyplot as plt\n",
    "import scipy.sparse.linalg as SPLA\n",
    "import csv\n",
    "import pandas as pd\n",
    "from functools import reduce\n",
    "from numba import jit, njit\n",
    "from copy import copy, deepcopy\n",
    "\n",
    "import sys\n",
    "sys.path.append(\"..\")\n",
    "\n",
    "import Entangler\n",
    "import TensorNetwork\n",
    "import hamiltonians\n",
    "import uuid\n",
    "import json\n",
    "\n",
    "import pennylane as qml\n",
    "import pennylane.numpy as np\n",
    "\n",
    "plt.rcParams.update({'font.size': 18})\n",
    "plt.rcParams.update({'figure.figsize': [9, 6]})"
   ]
  },
  {
   "cell_type": "code",
   "execution_count": 2,
   "metadata": {
    "tags": []
   },
   "outputs": [],
   "source": [
    "cuda = False"
   ]
  },
  {
   "cell_type": "code",
   "execution_count": 3,
   "metadata": {
    "tags": []
   },
   "outputs": [],
   "source": [
    "n_qubits = 10\n",
    "wire = list(range(n_qubits))\n",
    "depth = 4\n",
    "depth_classifier = 6\n",
    "\n",
    "ent = Entangler.IsingEntangler()\n",
    "TN = TensorNetwork.Checkerboard(wire, ent, depth=depth)\n",
    "\n",
    "TN_classifier = TensorNetwork.Checkerboard(wire, ent, depth=depth_classifier)\n",
    "\n",
    "n_max = 100 # n_max = TN.n_params"
   ]
  },
  {
   "cell_type": "markdown",
   "metadata": {},
   "source": [
    "### Loading the data"
   ]
  },
  {
   "cell_type": "markdown",
   "metadata": {},
   "source": [
    "The data set contains the rows where first 100 are the parameters, then the Jz parameter, energy, and label"
   ]
  },
  {
   "cell_type": "code",
   "execution_count": 4,
   "metadata": {
    "tags": []
   },
   "outputs": [],
   "source": [
    "small_data = \"vqe_2024-02-19_12-29-18.csv\"\n",
    "#bigger_data = \"vqe_2024-02-18_18-50-31.csv\"\n",
    "#gpu_data = \"vqe_GPU_2019-05-28_13-28-07.csv\"\n",
    "filename = small_data\n",
    "\n",
    "\n",
    "df_vqe_2 = pd.read_csv(filename, header=None)\n",
    "df_vqe_2 = df_vqe_2.map(lambda x: complex(x))\n",
    "\n",
    "df_vqe_2[n_max] = df_vqe_2[n_max].apply(lambda x: x.real)\n",
    "df_vqe_2[n_max+1] = df_vqe_2[n_max+1].apply(lambda x: x.real)\n",
    "df_vqe_2[n_max+2] = df_vqe_2[n_max+2].apply(lambda x: x.real)\n",
    "\n",
    "# df_vqe = df_vqe_2.drop([0, 1])\n",
    "df_vqe = df_vqe_2"
   ]
  },
  {
   "cell_type": "markdown",
   "metadata": {},
   "source": [
    "### Cleaning the data"
   ]
  },
  {
   "cell_type": "code",
   "execution_count": 5,
   "metadata": {
    "tags": []
   },
   "outputs": [
    {
     "name": "stdout",
     "output_type": "stream",
     "text": [
      "     100        101\n",
      "0   0.00 -12.437708\n",
      "1   0.00 -12.438302\n",
      "2   0.02 -12.513859\n",
      "3   0.02 -12.535575\n",
      "4   0.04 -12.611746\n",
      "5   0.04 -12.589815\n",
      "6   0.06 -12.667098\n",
      "7   0.06 -12.687944\n",
      "8   0.08 -12.765143\n",
      "9   0.08 -12.744831\n",
      "10  0.10 -12.823273\n",
      "11  0.10 -12.841849\n",
      "12  0.12 -12.920228\n",
      "13  0.12 -12.902485\n",
      "14  0.14 -12.982204\n",
      "15  0.14 -12.997663\n",
      "16  0.16 -13.076787\n",
      "17  0.16 -13.062887\n",
      "18  0.18 -13.144181\n",
      "19  0.18 -13.155852\n",
      "[0, 2, 5, 6, 9, 10, 13, 14, 17, 18]\n",
      "[1, 3, 4, 7, 8, 11, 12, 15, 16, 19]\n",
      "=============\n",
      "     100        101\n",
      "1   0.00 -12.438302\n",
      "3   0.02 -12.535575\n",
      "4   0.04 -12.611746\n",
      "7   0.06 -12.687944\n",
      "8   0.08 -12.765143\n",
      "11  0.10 -12.841849\n",
      "12  0.12 -12.920228\n",
      "15  0.14 -12.997663\n",
      "16  0.16 -13.076787\n",
      "19  0.18 -13.155852\n"
     ]
    }
   ],
   "source": [
    "df_vqe_clean = df_vqe.sort_values(by=[n_max])\n",
    "df_vqe_clean.index = np.arange(len(df_vqe))\n",
    "# df_vqe_clean = df_vqe.sort_index(by=[n_max])\n",
    "\n",
    "todrop = []\n",
    "tokeep = []\n",
    "for i in range(len(df_vqe) // 2):\n",
    "    E_1 = df_vqe_clean.iloc[i * 2, n_max + 1]\n",
    "    E_2 = df_vqe_clean.iloc[i * 2 + 1, n_max + 1]\n",
    "    h_1 = df_vqe_clean.iloc[i * 2, n_max]\n",
    "    h_2 = df_vqe_clean.iloc[i * 2 + 1, n_max]\n",
    "\n",
    "    if (E_2 > E_1):\n",
    "        todrop.append(i * 2 + 1)\n",
    "        tokeep.append(i * 2)\n",
    "    else:\n",
    "        todrop.append(i * 2)\n",
    "        tokeep.append(i * 2 + 1)\n",
    "\n",
    "        \n",
    "for i in range(len(df_vqe) // 2):\n",
    "    E_kept = df_vqe_clean.iloc[tokeep[i], n_max + 1]\n",
    "    E_dropped = df_vqe_clean.iloc[todrop[i], n_max + 1]\n",
    "    if E_dropped < E_kept:\n",
    "        print(\"AAA\")\n",
    "\n",
    "print(df_vqe_clean.iloc[:20, [n_max, n_max + 1]])\n",
    "\n",
    "print(todrop[:10])\n",
    "print(tokeep[:10])\n",
    "\n",
    "print(\"=============\")        \n",
    "        \n",
    "df_vqe_clean = df_vqe_clean.drop(todrop)\n",
    "print(df_vqe_clean.iloc[:10, [n_max, n_max + 1]])"
   ]
  },
  {
   "cell_type": "code",
   "execution_count": 6,
   "metadata": {
    "tags": []
   },
   "outputs": [
    {
     "data": {
      "text/plain": [
       "100"
      ]
     },
     "execution_count": 6,
     "metadata": {},
     "output_type": "execute_result"
    }
   ],
   "source": [
    "len(df_vqe_clean)"
   ]
  },
  {
   "cell_type": "markdown",
   "metadata": {},
   "source": [
    "### Augmenting the data"
   ]
  },
  {
   "cell_type": "markdown",
   "metadata": {},
   "source": [
    "#### Flips\n",
    "\n",
    "The XXZ model has symmetry with respect to rotations\n",
    "in the xy plane, as well as spin-flip symmetry. I will augment data by flipping the spins along the X direction."
   ]
  },
  {
   "cell_type": "code",
   "execution_count": 7,
   "metadata": {
    "tags": []
   },
   "outputs": [],
   "source": [
    "df_flip = df_vqe_clean.copy()\n",
    "\n",
    "df_flip.index = np.arange(len(df_flip))\n"
   ]
  },
  {
   "cell_type": "code",
   "execution_count": 8,
   "metadata": {
    "tags": []
   },
   "outputs": [],
   "source": [
    "## hardcoded for 10 qubits and depth 4\n",
    "z_gate_indices = [74 + i * 5 + k for i in range(5) for k in (4, 5)]\n",
    "x_gate_indices = [74 + i * 5 + k for i in range(5) for k in (1, 2)]\n"
   ]
  },
  {
   "cell_type": "code",
   "execution_count": 9,
   "metadata": {
    "tags": []
   },
   "outputs": [],
   "source": [
    "for n in z_gate_indices:\n",
    "    df_flip[n] *= -1\n",
    "\n",
    "for n in x_gate_indices:\n",
    "    df_flip[n] += np.pi\n"
   ]
  },
  {
   "cell_type": "markdown",
   "metadata": {},
   "source": [
    "To check the correctness of the flip operation, I will now check that the ansatz parameters and the energy are consistent"
   ]
  },
  {
   "cell_type": "code",
   "execution_count": 10,
   "metadata": {
    "tags": []
   },
   "outputs": [
    {
     "name": "stdout",
     "output_type": "stream",
     "text": [
      "All OK\n"
     ]
    }
   ],
   "source": [
    "h_0 = hamiltonians.xxz_heisenberg_model(10, 1, 0)\n",
    "h_1 = hamiltonians.xxz_heisenberg_model(10, 0, 1)\n",
    "H_0 = hamiltonians.explicit_hamiltonian(h_0)\n",
    "H_1 = hamiltonians.explicit_hamiltonian(h_1)\n",
    "\n",
    "energy_off = False\n",
    "statebuilding_error = False\n",
    "\n",
    "for i, row in df_flip.iterrows():\n",
    "    if i>50:\n",
    "        break\n",
    "            \n",
    "    E = row[n_max + 1].real\n",
    "    h = row[n_max].real\n",
    "    H = H_0 + h * H_1\n",
    "    H_op  = qml.Hermitian(H, wire)\n",
    "    \n",
    "    dev1 = qml.device(\"default.qubit\",wire)\n",
    "    @qml.qnode(dev1)\n",
    "    def test_energy(params):\n",
    "        TN.construct_circuit(params) # build the ground state, embed the train data\n",
    "        return qml.expval(H_op)\n",
    "            \n",
    "    E_fact = test_energy(np.array(row[:n_max]))        \n",
    "              \n",
    "    if not(np.isclose(E, E_fact)):\n",
    "        print(\"Found energy error in row {}\".format(i))\n",
    "        energy_off = True\n",
    "        \n",
    "    \n",
    "\n",
    "        \n",
    "if (not energy_off):\n",
    "    print(\"All OK\")"
   ]
  },
  {
   "cell_type": "code",
   "execution_count": 12,
   "metadata": {
    "tags": []
   },
   "outputs": [],
   "source": [
    "df_with_flip = pd.concat([df_vqe_clean,df_flip],ignore_index=True)"
   ]
  },
  {
   "cell_type": "code",
   "execution_count": 13,
   "metadata": {
    "tags": []
   },
   "outputs": [
    {
     "data": {
      "text/plain": [
       "200"
      ]
     },
     "execution_count": 13,
     "metadata": {},
     "output_type": "execute_result"
    }
   ],
   "source": [
    "#df_with_flip = df_vqe_clean.append(df_flip)\n",
    "len(df_with_flip)"
   ]
  },
  {
   "cell_type": "markdown",
   "metadata": {},
   "source": [
    "### Reload the prepared dataset if you don't want to build it"
   ]
  },
  {
   "cell_type": "code",
   "execution_count": 14,
   "metadata": {
    "tags": []
   },
   "outputs": [
    {
     "name": "stdout",
     "output_type": "stream",
     "text": [
      "200\n"
     ]
    }
   ],
   "source": [
    "### Load if necessary\n",
    "\n",
    "#df_total = pd.read_csv(\"df_total_bigger.csv\", header=None)\n",
    "df_total = df_with_flip\n",
    "df_total[n_max+2] = df_total[n_max+2].apply(lambda x: x*2-1) # transfer label to {-1,1}\n",
    "print(len(df_total))\n"
   ]
  },
  {
   "cell_type": "markdown",
   "metadata": {},
   "source": [
    "### Split the data into train and test"
   ]
  },
  {
   "cell_type": "code",
   "execution_count": 15,
   "metadata": {
    "tags": []
   },
   "outputs": [],
   "source": [
    "df_shuffled = df_total.sample(frac=1).reset_index(drop=True)\n",
    "train_pos = int(0.8 * len(df_total))\n",
    "df_train = df_shuffled.iloc[:train_pos,:]\n",
    "df_test = df_shuffled.iloc[train_pos:,:]\n",
    "\n",
    "df_train_data = np.array(df_train) # will cut of the last 3 elements in circuit\n",
    "df_train_label = np.array(df_train[n_max+2])\n",
    "df_test_data = np.array(df_test) # will cut of the last 3 elements in circuit\n",
    "df_test_label = np.array(df_test[n_max+2])\n"
   ]
  },
  {
   "cell_type": "markdown",
   "metadata": {},
   "source": [
    "### Constructing objective functions"
   ]
  },
  {
   "cell_type": "code",
   "execution_count": 16,
   "metadata": {
    "tags": []
   },
   "outputs": [],
   "source": [
    "if cuda == True:\n",
    "    dev = qml.device(\"lightning.gpu\",wire)\n",
    "else:\n",
    "    dev = qml.device(\"default.qubit\",wire)\n",
    "    \n",
    "@qml.qnode(dev)\n",
    "def circuit(params, weights):\n",
    "    TN.construct_circuit(params) # build the ground state, embed the train data\n",
    "    TN_classifier.construct_circuit(weights)\n",
    "    return qml.expval(qml.PauliZ(0)@qml.PauliZ(1)@qml.PauliZ(2)@qml.PauliZ(3)@qml.PauliZ(4)@qml.PauliZ(5)@qml.PauliZ(6)@qml.PauliZ(7)@qml.PauliZ(8)@qml.PauliZ(9))\n",
    "    \n",
    "def variational_classifier(weights, bias, params):\n",
    "    return circuit(params[:n_max], weights) + bias\n",
    "\n",
    "def loss_fn(labels, predictions):\n",
    "    return sum((labels - predictions)**2)/len(labels)\n",
    "\n",
    "def accuracy(labels, predictions):\n",
    "    acc = sum(abs(l - p) < 1e-5 for l, p in zip(labels, predictions))\n",
    "    acc = acc / len(labels)\n",
    "    return acc\n",
    "\n",
    "def cost(weights, bias, train_data, labels):\n",
    "    predictions = [variational_classifier(weights, bias, params) for params in train_data]\n",
    "    return loss_fn(labels, predictions)\n"
   ]
  },
  {
   "cell_type": "markdown",
   "metadata": {},
   "source": [
    "### Running the machine learning"
   ]
  },
  {
   "cell_type": "code",
   "execution_count": 19,
   "metadata": {
    "tags": []
   },
   "outputs": [],
   "source": [
    "np.random.seed(0)\n",
    "\n",
    "weights_init = 0.1 * np.random.randn(TN_classifier.n_params, requires_grad=True)\n",
    "bias_init = np.array(0.0, requires_grad=True)\n",
    "opt = qml.NesterovMomentumOptimizer(0.5)\n",
    "batch_size = 0.5*len(df_train_data)"
   ]
  },
  {
   "cell_type": "code",
   "execution_count": 20,
   "metadata": {
    "tags": []
   },
   "outputs": [
    {
     "name": "stdout",
     "output_type": "stream",
     "text": [
      "Iter:    1 | Cost: 1.4210730 | Accuracy: 0.4687500\n",
      "Iter:    2 | Cost: 1.0829849 | Accuracy: 0.4687500\n",
      "Iter:    3 | Cost: 0.9851787 | Accuracy: 0.5312500\n",
      "Iter:    4 | Cost: 0.8143432 | Accuracy: 0.8312500\n",
      "Iter:    5 | Cost: 0.8620548 | Accuracy: 0.5312500\n",
      "Iter:    6 | Cost: 0.9237712 | Accuracy: 0.5312500\n",
      "Iter:    7 | Cost: 0.9490297 | Accuracy: 0.5312500\n",
      "Iter:    8 | Cost: 0.9697790 | Accuracy: 0.4687500\n",
      "Iter:    9 | Cost: 0.9427825 | Accuracy: 0.6562500\n",
      "Iter:   10 | Cost: 1.0201577 | Accuracy: 0.4687500\n",
      "Iter:   11 | Cost: 0.9681670 | Accuracy: 0.5312500\n",
      "Iter:   12 | Cost: 0.8892342 | Accuracy: 0.5312500\n",
      "Iter:   13 | Cost: 0.8047212 | Accuracy: 0.8312500\n",
      "Iter:   14 | Cost: 0.7128231 | Accuracy: 0.9062500\n",
      "Iter:   15 | Cost: 0.6520568 | Accuracy: 0.9062500\n",
      "Iter:   16 | Cost: 0.6058706 | Accuracy: 0.9062500\n",
      "Iter:   17 | Cost: 0.6512495 | Accuracy: 0.8812500\n",
      "Iter:   18 | Cost: 0.5944283 | Accuracy: 0.9062500\n",
      "Iter:   19 | Cost: 0.6670683 | Accuracy: 0.9500000\n",
      "Iter:   20 | Cost: 0.6461805 | Accuracy: 0.5312500\n",
      "Iter:   21 | Cost: 0.6056789 | Accuracy: 0.8750000\n",
      "Iter:   22 | Cost: 0.6318935 | Accuracy: 0.8250000\n",
      "Iter:   23 | Cost: 0.6208093 | Accuracy: 0.5312500\n",
      "Iter:   24 | Cost: 0.5444976 | Accuracy: 0.9687500\n",
      "Iter:   25 | Cost: 0.4745352 | Accuracy: 0.9750000\n",
      "Iter:   26 | Cost: 0.4597522 | Accuracy: 0.9750000\n",
      "Iter:   27 | Cost: 0.4705624 | Accuracy: 0.9750000\n",
      "Iter:   28 | Cost: 0.4817422 | Accuracy: 0.9750000\n",
      "Iter:   29 | Cost: 0.6748205 | Accuracy: 0.5312500\n",
      "Iter:   30 | Cost: 0.7453375 | Accuracy: 0.9312500\n",
      "Iter:   31 | Cost: 0.5373271 | Accuracy: 0.9750000\n",
      "Iter:   32 | Cost: 0.4573474 | Accuracy: 0.9750000\n",
      "Iter:   33 | Cost: 0.4500017 | Accuracy: 0.9750000\n",
      "Iter:   34 | Cost: 0.4421465 | Accuracy: 0.9750000\n",
      "Iter:   35 | Cost: 0.4473083 | Accuracy: 0.9750000\n",
      "Iter:   36 | Cost: 0.4387669 | Accuracy: 0.9750000\n",
      "Iter:   37 | Cost: 0.4573819 | Accuracy: 0.9750000\n",
      "Iter:   38 | Cost: 0.4184271 | Accuracy: 0.9750000\n",
      "Iter:   39 | Cost: 0.4053244 | Accuracy: 0.9750000\n",
      "Iter:   40 | Cost: 0.4102406 | Accuracy: 0.9750000\n",
      "Iter:   41 | Cost: 0.4051547 | Accuracy: 0.9750000\n",
      "Iter:   42 | Cost: 0.4182976 | Accuracy: 0.9750000\n",
      "Iter:   43 | Cost: 0.5449630 | Accuracy: 0.9750000\n",
      "Iter:   44 | Cost: 0.5628653 | Accuracy: 0.6562500\n",
      "Iter:   45 | Cost: 0.4242826 | Accuracy: 0.9750000\n",
      "Iter:   46 | Cost: 0.4100299 | Accuracy: 0.9750000\n",
      "Iter:   47 | Cost: 0.4150652 | Accuracy: 0.9750000\n",
      "Iter:   48 | Cost: 0.4141793 | Accuracy: 0.9750000\n",
      "Iter:   49 | Cost: 0.4297876 | Accuracy: 0.9750000\n",
      "Iter:   50 | Cost: 0.3820622 | Accuracy: 0.9750000\n",
      "Iter:   51 | Cost: 0.3836320 | Accuracy: 0.9750000\n",
      "Iter:   52 | Cost: 0.4060718 | Accuracy: 0.9750000\n",
      "Iter:   53 | Cost: 0.3776351 | Accuracy: 0.9750000\n",
      "Iter:   54 | Cost: 0.3777466 | Accuracy: 0.9750000\n",
      "Iter:   55 | Cost: 0.3863465 | Accuracy: 0.9750000\n",
      "Iter:   56 | Cost: 0.3817635 | Accuracy: 0.9750000\n",
      "Iter:   57 | Cost: 0.4718964 | Accuracy: 0.9750000\n",
      "Iter:   58 | Cost: 0.5577175 | Accuracy: 0.5312500\n",
      "Iter:   59 | Cost: 0.4681748 | Accuracy: 0.9750000\n",
      "Iter:   60 | Cost: 0.4769011 | Accuracy: 0.9750000\n",
      "Iter:   61 | Cost: 0.5080949 | Accuracy: 0.9750000\n",
      "Iter:   62 | Cost: 0.4256315 | Accuracy: 0.9750000\n",
      "Iter:   63 | Cost: 0.3952971 | Accuracy: 0.9750000\n",
      "Iter:   64 | Cost: 0.3783868 | Accuracy: 0.9750000\n",
      "Iter:   65 | Cost: 0.3663549 | Accuracy: 0.9750000\n",
      "Iter:   66 | Cost: 0.3625640 | Accuracy: 0.9750000\n",
      "Iter:   67 | Cost: 0.3668477 | Accuracy: 0.9750000\n",
      "Iter:   68 | Cost: 0.3593797 | Accuracy: 0.9750000\n",
      "Iter:   69 | Cost: 0.3684961 | Accuracy: 0.9750000\n",
      "Iter:   70 | Cost: 0.3554122 | Accuracy: 0.9750000\n",
      "Iter:   71 | Cost: 0.3560174 | Accuracy: 0.9750000\n",
      "Iter:   72 | Cost: 0.3708438 | Accuracy: 0.9750000\n",
      "Iter:   73 | Cost: 0.3529876 | Accuracy: 0.9750000\n",
      "Iter:   74 | Cost: 0.3487725 | Accuracy: 0.9750000\n",
      "Iter:   75 | Cost: 0.3481156 | Accuracy: 0.9750000\n",
      "Iter:   76 | Cost: 0.3615320 | Accuracy: 0.9750000\n",
      "Iter:   77 | Cost: 0.3509582 | Accuracy: 0.9750000\n",
      "Iter:   78 | Cost: 0.3728660 | Accuracy: 0.9750000\n",
      "Iter:   79 | Cost: 0.3520029 | Accuracy: 0.9750000\n",
      "Iter:   80 | Cost: 0.3496025 | Accuracy: 0.9750000\n",
      "Iter:   81 | Cost: 0.3806362 | Accuracy: 0.9750000\n",
      "Iter:   82 | Cost: 0.3509725 | Accuracy: 0.9750000\n",
      "Iter:   83 | Cost: 0.3445101 | Accuracy: 0.9750000\n",
      "Iter:   84 | Cost: 0.3430174 | Accuracy: 0.9750000\n",
      "Iter:   85 | Cost: 0.3441771 | Accuracy: 0.9750000\n",
      "Iter:   86 | Cost: 0.3540754 | Accuracy: 0.9750000\n",
      "Iter:   87 | Cost: 0.3427072 | Accuracy: 0.9750000\n",
      "Iter:   88 | Cost: 0.3571422 | Accuracy: 0.9750000\n",
      "Iter:   89 | Cost: 0.3453704 | Accuracy: 0.9750000\n",
      "Iter:   90 | Cost: 0.3415148 | Accuracy: 0.9750000\n",
      "Iter:   91 | Cost: 0.3419579 | Accuracy: 0.9750000\n",
      "Iter:   92 | Cost: 0.3444855 | Accuracy: 0.9750000\n",
      "Iter:   93 | Cost: 0.3468782 | Accuracy: 0.9750000\n",
      "Iter:   94 | Cost: 0.3420038 | Accuracy: 0.9750000\n",
      "Iter:   95 | Cost: 0.3470963 | Accuracy: 0.9750000\n",
      "Iter:   96 | Cost: 0.3456284 | Accuracy: 0.9750000\n",
      "Iter:   97 | Cost: 0.3459308 | Accuracy: 0.9750000\n",
      "Iter:   98 | Cost: 0.3430069 | Accuracy: 0.9750000\n",
      "Iter:   99 | Cost: 0.3537312 | Accuracy: 0.9750000\n",
      "Iter:  100 | Cost: 0.3465219 | Accuracy: 0.9750000\n"
     ]
    }
   ],
   "source": [
    "weights = weights_init\n",
    "bias = bias_init\n",
    "for it in range(100):\n",
    "\n",
    "    # Update the weights by one optimizer step, using only a limited batch of data\n",
    "    batch_index = np.random.randint(0, len(df_train_label), (batch_size,))\n",
    "    data_batch = df_train_data[batch_index]\n",
    "    label_batch = df_train_label[batch_index]\n",
    "    \n",
    "    \n",
    "    weights, bias = opt.step(cost, weights, bias, train_data=data_batch, labels=label_batch)\n",
    "\n",
    "    # Compute accuracy\n",
    "    predictions = [np.sign(variational_classifier(weights, bias, df)) for df in df_train_data]\n",
    "\n",
    "    current_cost = cost(weights, bias, df_train_data, df_train_label)\n",
    "    acc = accuracy(df_train_label, predictions)\n",
    "\n",
    "    print(f\"Iter: {it+1:4d} | Cost: {current_cost:0.7f} | Accuracy: {acc:0.7f}\")\n",
    "    "
   ]
  },
  {
   "cell_type": "markdown",
   "metadata": {},
   "source": [
    "### Checking the performance on the test set"
   ]
  },
  {
   "cell_type": "code",
   "execution_count": 22,
   "metadata": {
    "tags": []
   },
   "outputs": [
    {
     "name": "stdout",
     "output_type": "stream",
     "text": [
      "Accuracy on test data: 1.0\n"
     ]
    }
   ],
   "source": [
    "predictions_test = [np.sign(variational_classifier(weights, bias, df)) for df in df_test_data]\n",
    "\n",
    "acc_test = accuracy(df_test_label, predictions_test)\n",
    "\n",
    "print(\"Accuracy on test data:\", acc_test)"
   ]
  },
  {
   "cell_type": "code",
   "execution_count": 23,
   "metadata": {
    "tags": []
   },
   "outputs": [],
   "source": [
    "\n",
    "%matplotlib inline\n",
    "\n",
    "preds = []\n",
    "trues = np.array(df_total[n_max + 2])\n",
    "for i in range(len(df_total)):\n",
    "    params = df_total.iloc[i][:n_max]\n",
    "    preds.append(variational_classifier(weights, bias, params))\n",
    "    \n",
    "    \n",
    "\n",
    "# plt.rcParams.update({'font.size': 14})\n",
    "\n",
    "\n",
    "# plt.figure()\n",
    "# fields = np.array(df_test[n_max])\n",
    "# plt.scatter(fields, preds)\n",
    "\n",
    "# plt.xlabel(r'$J_z$')\n",
    "# plt.ylabel('Prediction of label II')\n",
    "# plt.grid()\n",
    "# plt.ylim([0, 1])\n",
    "# plt.xlim([0, 2])\n",
    "# plt.plot([1, 1], [0, 1], 'r')\n",
    "# plt.text(0.35, 0.63, 'I', fontsize=24, fontfamily='serif')\n",
    "# plt.text(1.6, 0.63, 'II', fontsize=24, fontfamily='serif')\n",
    "# plt.plot([0, 2], [0.5, 0.5], 'r--')\n",
    "# plt.show()"
   ]
  },
  {
   "cell_type": "code",
   "execution_count": 24,
   "metadata": {
    "tags": []
   },
   "outputs": [
    {
     "data": {
      "image/png": "[encoded data removed]",
      "text/plain": [
       "<Figure size 900x600 with 1 Axes>"
      ]
     },
     "metadata": {},
     "output_type": "display_data"
    }
   ],
   "source": [
    "\n",
    "# %matplotlib inline\n",
    "# plt.rcParams.update({'font.size': 14})\n",
    "# plt.figure()\n",
    "fields = np.array(df_total[n_max])\n",
    "plt.scatter(fields, preds)\n",
    "\n",
    "plt.xlabel(r'$J_z$')\n",
    "plt.ylabel('Prediction of label II')\n",
    "plt.grid()\n",
    "plt.ylim([-1, 1])\n",
    "plt.xlim([0, 2])\n",
    "plt.plot([1, 1], [-1, 1], 'r')\n",
    "plt.text(0.35, 0.63, 'I', fontsize=24, fontfamily='serif')\n",
    "plt.text(1.6, 0.63, 'II', fontsize=24, fontfamily='serif')\n",
    "plt.plot([2, 0], [0,0], 'r--')\n",
    "plt.show()"
   ]
  },
  {
   "cell_type": "code",
   "execution_count": null,
   "metadata": {},
   "outputs": [],
   "source": []
  },
  {
   "cell_type": "code",
   "execution_count": null,
   "metadata": {},
   "outputs": [],
   "source": []
  }
 ],
 "metadata": {
  "kernelspec": {
   "display_name": "Python 3 [Default]",
   "language": "python",
   "name": "python3"
  },
  "language_info": {
   "codemirror_mode": {
    "name": "ipython",
    "version": 3
   },
   "file_extension": ".py",
   "mimetype": "text/x-python",
   "name": "python",
   "nbconvert_exporter": "python",
   "pygments_lexer": "ipython3",
   "version": "3.11.7"
  }
 },
 "nbformat": 4,
 "nbformat_minor": 4
}
